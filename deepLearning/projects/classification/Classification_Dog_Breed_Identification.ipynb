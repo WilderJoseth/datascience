{
  "nbformat": 4,
  "nbformat_minor": 0,
  "metadata": {
    "colab": {
      "name": "Classification - Dog Breed Identification.ipynb",
      "provenance": [],
      "collapsed_sections": [
        "Knt9MevK68Ag",
        "A9S1b5ji70Mi",
        "qysSFTMDEsEw",
        "LpxIA7xyMyjs",
        "j5hMS_HNM0SW",
        "4FUH6Zy1ODtt",
        "5N6dsJKpPe6G"
      ],
      "toc_visible": true
    },
    "kernelspec": {
      "name": "python3",
      "display_name": "Python 3"
    },
    "accelerator": "GPU"
  },
  "cells": [
    {
      "cell_type": "markdown",
      "metadata": {
        "id": "UvPs3sKd4nJ3"
      },
      "source": [
        "# Introduction\n",
        "\n",
        "This is project where I explore a new technique to classify images. In this case I will transfer learning to extract features.\n",
        "\n",
        "This project is base on: https://www.kaggle.com/phylake1337/0-18-loss-simple-feature-extractors"
      ]
    },
    {
      "cell_type": "markdown",
      "metadata": {
        "id": "tAHY_DuA6Klp"
      },
      "source": [
        "# Load data"
      ]
    },
    {
      "cell_type": "code",
      "metadata": {
        "id": "tpARftwMNoXR"
      },
      "source": [
        "!pip install kaggle --upgrade --force"
      ],
      "execution_count": null,
      "outputs": []
    },
    {
      "cell_type": "code",
      "metadata": {
        "id": "xlCjXMO-Ntjs",
        "colab": {
          "resources": {
            "http://localhost:8080/nbextensions/google.colab/files.js": {
              "data": "Ly8gQ29weXJpZ2h0IDIwMTcgR29vZ2xlIExMQwovLwovLyBMaWNlbnNlZCB1bmRlciB0aGUgQXBhY2hlIExpY2Vuc2UsIFZlcnNpb24gMi4wICh0aGUgIkxpY2Vuc2UiKTsKLy8geW91IG1heSBub3QgdXNlIHRoaXMgZmlsZSBleGNlcHQgaW4gY29tcGxpYW5jZSB3aXRoIHRoZSBMaWNlbnNlLgovLyBZb3UgbWF5IG9idGFpbiBhIGNvcHkgb2YgdGhlIExpY2Vuc2UgYXQKLy8KLy8gICAgICBodHRwOi8vd3d3LmFwYWNoZS5vcmcvbGljZW5zZXMvTElDRU5TRS0yLjAKLy8KLy8gVW5sZXNzIHJlcXVpcmVkIGJ5IGFwcGxpY2FibGUgbGF3IG9yIGFncmVlZCB0byBpbiB3cml0aW5nLCBzb2Z0d2FyZQovLyBkaXN0cmlidXRlZCB1bmRlciB0aGUgTGljZW5zZSBpcyBkaXN0cmlidXRlZCBvbiBhbiAiQVMgSVMiIEJBU0lTLAovLyBXSVRIT1VUIFdBUlJBTlRJRVMgT1IgQ09ORElUSU9OUyBPRiBBTlkgS0lORCwgZWl0aGVyIGV4cHJlc3Mgb3IgaW1wbGllZC4KLy8gU2VlIHRoZSBMaWNlbnNlIGZvciB0aGUgc3BlY2lmaWMgbGFuZ3VhZ2UgZ292ZXJuaW5nIHBlcm1pc3Npb25zIGFuZAovLyBsaW1pdGF0aW9ucyB1bmRlciB0aGUgTGljZW5zZS4KCi8qKgogKiBAZmlsZW92ZXJ2aWV3IEhlbHBlcnMgZm9yIGdvb2dsZS5jb2xhYiBQeXRob24gbW9kdWxlLgogKi8KKGZ1bmN0aW9uKHNjb3BlKSB7CmZ1bmN0aW9uIHNwYW4odGV4dCwgc3R5bGVBdHRyaWJ1dGVzID0ge30pIHsKICBjb25zdCBlbGVtZW50ID0gZG9jdW1lbnQuY3JlYXRlRWxlbWVudCgnc3BhbicpOwogIGVsZW1lbnQudGV4dENvbnRlbnQgPSB0ZXh0OwogIGZvciAoY29uc3Qga2V5IG9mIE9iamVjdC5rZXlzKHN0eWxlQXR0cmlidXRlcykpIHsKICAgIGVsZW1lbnQuc3R5bGVba2V5XSA9IHN0eWxlQXR0cmlidXRlc1trZXldOwogIH0KICByZXR1cm4gZWxlbWVudDsKfQoKLy8gTWF4IG51bWJlciBvZiBieXRlcyB3aGljaCB3aWxsIGJlIHVwbG9hZGVkIGF0IGEgdGltZS4KY29uc3QgTUFYX1BBWUxPQURfU0laRSA9IDEwMCAqIDEwMjQ7CgpmdW5jdGlvbiBfdXBsb2FkRmlsZXMoaW5wdXRJZCwgb3V0cHV0SWQpIHsKICBjb25zdCBzdGVwcyA9IHVwbG9hZEZpbGVzU3RlcChpbnB1dElkLCBvdXRwdXRJZCk7CiAgY29uc3Qgb3V0cHV0RWxlbWVudCA9IGRvY3VtZW50LmdldEVsZW1lbnRCeUlkKG91dHB1dElkKTsKICAvLyBDYWNoZSBzdGVwcyBvbiB0aGUgb3V0cHV0RWxlbWVudCB0byBtYWtlIGl0IGF2YWlsYWJsZSBmb3IgdGhlIG5leHQgY2FsbAogIC8vIHRvIHVwbG9hZEZpbGVzQ29udGludWUgZnJvbSBQeXRob24uCiAgb3V0cHV0RWxlbWVudC5zdGVwcyA9IHN0ZXBzOwoKICByZXR1cm4gX3VwbG9hZEZpbGVzQ29udGludWUob3V0cHV0SWQpOwp9CgovLyBUaGlzIGlzIHJvdWdobHkgYW4gYXN5bmMgZ2VuZXJhdG9yIChub3Qgc3VwcG9ydGVkIGluIHRoZSBicm93c2VyIHlldCksCi8vIHdoZXJlIHRoZXJlIGFyZSBtdWx0aXBsZSBhc3luY2hyb25vdXMgc3RlcHMgYW5kIHRoZSBQeXRob24gc2lkZSBpcyBnb2luZwovLyB0byBwb2xsIGZvciBjb21wbGV0aW9uIG9mIGVhY2ggc3RlcC4KLy8gVGhpcyB1c2VzIGEgUHJvbWlzZSB0byBibG9jayB0aGUgcHl0aG9uIHNpZGUgb24gY29tcGxldGlvbiBvZiBlYWNoIHN0ZXAsCi8vIHRoZW4gcGFzc2VzIHRoZSByZXN1bHQgb2YgdGhlIHByZXZpb3VzIHN0ZXAgYXMgdGhlIGlucHV0IHRvIHRoZSBuZXh0IHN0ZXAuCmZ1bmN0aW9uIF91cGxvYWRGaWxlc0NvbnRpbnVlKG91dHB1dElkKSB7CiAgY29uc3Qgb3V0cHV0RWxlbWVudCA9IGRvY3VtZW50LmdldEVsZW1lbnRCeUlkKG91dHB1dElkKTsKICBjb25zdCBzdGVwcyA9IG91dHB1dEVsZW1lbnQuc3RlcHM7CgogIGNvbnN0IG5leHQgPSBzdGVwcy5uZXh0KG91dHB1dEVsZW1lbnQubGFzdFByb21pc2VWYWx1ZSk7CiAgcmV0dXJuIFByb21pc2UucmVzb2x2ZShuZXh0LnZhbHVlLnByb21pc2UpLnRoZW4oKHZhbHVlKSA9PiB7CiAgICAvLyBDYWNoZSB0aGUgbGFzdCBwcm9taXNlIHZhbHVlIHRvIG1ha2UgaXQgYXZhaWxhYmxlIHRvIHRoZSBuZXh0CiAgICAvLyBzdGVwIG9mIHRoZSBnZW5lcmF0b3IuCiAgICBvdXRwdXRFbGVtZW50Lmxhc3RQcm9taXNlVmFsdWUgPSB2YWx1ZTsKICAgIHJldHVybiBuZXh0LnZhbHVlLnJlc3BvbnNlOwogIH0pOwp9CgovKioKICogR2VuZXJhdG9yIGZ1bmN0aW9uIHdoaWNoIGlzIGNhbGxlZCBiZXR3ZWVuIGVhY2ggYXN5bmMgc3RlcCBvZiB0aGUgdXBsb2FkCiAqIHByb2Nlc3MuCiAqIEBwYXJhbSB7c3RyaW5nfSBpbnB1dElkIEVsZW1lbnQgSUQgb2YgdGhlIGlucHV0IGZpbGUgcGlja2VyIGVsZW1lbnQuCiAqIEBwYXJhbSB7c3RyaW5nfSBvdXRwdXRJZCBFbGVtZW50IElEIG9mIHRoZSBvdXRwdXQgZGlzcGxheS4KICogQHJldHVybiB7IUl0ZXJhYmxlPCFPYmplY3Q+fSBJdGVyYWJsZSBvZiBuZXh0IHN0ZXBzLgogKi8KZnVuY3Rpb24qIHVwbG9hZEZpbGVzU3RlcChpbnB1dElkLCBvdXRwdXRJZCkgewogIGNvbnN0IGlucHV0RWxlbWVudCA9IGRvY3VtZW50LmdldEVsZW1lbnRCeUlkKGlucHV0SWQpOwogIGlucHV0RWxlbWVudC5kaXNhYmxlZCA9IGZhbHNlOwoKICBjb25zdCBvdXRwdXRFbGVtZW50ID0gZG9jdW1lbnQuZ2V0RWxlbWVudEJ5SWQob3V0cHV0SWQpOwogIG91dHB1dEVsZW1lbnQuaW5uZXJIVE1MID0gJyc7CgogIGNvbnN0IHBpY2tlZFByb21pc2UgPSBuZXcgUHJvbWlzZSgocmVzb2x2ZSkgPT4gewogICAgaW5wdXRFbGVtZW50LmFkZEV2ZW50TGlzdGVuZXIoJ2NoYW5nZScsIChlKSA9PiB7CiAgICAgIHJlc29sdmUoZS50YXJnZXQuZmlsZXMpOwogICAgfSk7CiAgfSk7CgogIGNvbnN0IGNhbmNlbCA9IGRvY3VtZW50LmNyZWF0ZUVsZW1lbnQoJ2J1dHRvbicpOwogIGlucHV0RWxlbWVudC5wYXJlbnRFbGVtZW50LmFwcGVuZENoaWxkKGNhbmNlbCk7CiAgY2FuY2VsLnRleHRDb250ZW50ID0gJ0NhbmNlbCB1cGxvYWQnOwogIGNvbnN0IGNhbmNlbFByb21pc2UgPSBuZXcgUHJvbWlzZSgocmVzb2x2ZSkgPT4gewogICAgY2FuY2VsLm9uY2xpY2sgPSAoKSA9PiB7CiAgICAgIHJlc29sdmUobnVsbCk7CiAgICB9OwogIH0pOwoKICAvLyBXYWl0IGZvciB0aGUgdXNlciB0byBwaWNrIHRoZSBmaWxlcy4KICBjb25zdCBmaWxlcyA9IHlpZWxkIHsKICAgIHByb21pc2U6IFByb21pc2UucmFjZShbcGlja2VkUHJvbWlzZSwgY2FuY2VsUHJvbWlzZV0pLAogICAgcmVzcG9uc2U6IHsKICAgICAgYWN0aW9uOiAnc3RhcnRpbmcnLAogICAgfQogIH07CgogIGNhbmNlbC5yZW1vdmUoKTsKCiAgLy8gRGlzYWJsZSB0aGUgaW5wdXQgZWxlbWVudCBzaW5jZSBmdXJ0aGVyIHBpY2tzIGFyZSBub3QgYWxsb3dlZC4KICBpbnB1dEVsZW1lbnQuZGlzYWJsZWQgPSB0cnVlOwoKICBpZiAoIWZpbGVzKSB7CiAgICByZXR1cm4gewogICAgICByZXNwb25zZTogewogICAgICAgIGFjdGlvbjogJ2NvbXBsZXRlJywKICAgICAgfQogICAgfTsKICB9CgogIGZvciAoY29uc3QgZmlsZSBvZiBmaWxlcykgewogICAgY29uc3QgbGkgPSBkb2N1bWVudC5jcmVhdGVFbGVtZW50KCdsaScpOwogICAgbGkuYXBwZW5kKHNwYW4oZmlsZS5uYW1lLCB7Zm9udFdlaWdodDogJ2JvbGQnfSkpOwogICAgbGkuYXBwZW5kKHNwYW4oCiAgICAgICAgYCgke2ZpbGUudHlwZSB8fCAnbi9hJ30pIC0gJHtmaWxlLnNpemV9IGJ5dGVzLCBgICsKICAgICAgICBgbGFzdCBtb2RpZmllZDogJHsKICAgICAgICAgICAgZmlsZS5sYXN0TW9kaWZpZWREYXRlID8gZmlsZS5sYXN0TW9kaWZpZWREYXRlLnRvTG9jYWxlRGF0ZVN0cmluZygpIDoKICAgICAgICAgICAgICAgICAgICAgICAgICAgICAgICAgICAgJ24vYSd9IC0gYCkpOwogICAgY29uc3QgcGVyY2VudCA9IHNwYW4oJzAlIGRvbmUnKTsKICAgIGxpLmFwcGVuZENoaWxkKHBlcmNlbnQpOwoKICAgIG91dHB1dEVsZW1lbnQuYXBwZW5kQ2hpbGQobGkpOwoKICAgIGNvbnN0IGZpbGVEYXRhUHJvbWlzZSA9IG5ldyBQcm9taXNlKChyZXNvbHZlKSA9PiB7CiAgICAgIGNvbnN0IHJlYWRlciA9IG5ldyBGaWxlUmVhZGVyKCk7CiAgICAgIHJlYWRlci5vbmxvYWQgPSAoZSkgPT4gewogICAgICAgIHJlc29sdmUoZS50YXJnZXQucmVzdWx0KTsKICAgICAgfTsKICAgICAgcmVhZGVyLnJlYWRBc0FycmF5QnVmZmVyKGZpbGUpOwogICAgfSk7CiAgICAvLyBXYWl0IGZvciB0aGUgZGF0YSB0byBiZSByZWFkeS4KICAgIGxldCBmaWxlRGF0YSA9IHlpZWxkIHsKICAgICAgcHJvbWlzZTogZmlsZURhdGFQcm9taXNlLAogICAgICByZXNwb25zZTogewogICAgICAgIGFjdGlvbjogJ2NvbnRpbnVlJywKICAgICAgfQogICAgfTsKCiAgICAvLyBVc2UgYSBjaHVua2VkIHNlbmRpbmcgdG8gYXZvaWQgbWVzc2FnZSBzaXplIGxpbWl0cy4gU2VlIGIvNjIxMTU2NjAuCiAgICBsZXQgcG9zaXRpb24gPSAwOwogICAgd2hpbGUgKHBvc2l0aW9uIDwgZmlsZURhdGEuYnl0ZUxlbmd0aCkgewogICAgICBjb25zdCBsZW5ndGggPSBNYXRoLm1pbihmaWxlRGF0YS5ieXRlTGVuZ3RoIC0gcG9zaXRpb24sIE1BWF9QQVlMT0FEX1NJWkUpOwogICAgICBjb25zdCBjaHVuayA9IG5ldyBVaW50OEFycmF5KGZpbGVEYXRhLCBwb3NpdGlvbiwgbGVuZ3RoKTsKICAgICAgcG9zaXRpb24gKz0gbGVuZ3RoOwoKICAgICAgY29uc3QgYmFzZTY0ID0gYnRvYShTdHJpbmcuZnJvbUNoYXJDb2RlLmFwcGx5KG51bGwsIGNodW5rKSk7CiAgICAgIHlpZWxkIHsKICAgICAgICByZXNwb25zZTogewogICAgICAgICAgYWN0aW9uOiAnYXBwZW5kJywKICAgICAgICAgIGZpbGU6IGZpbGUubmFtZSwKICAgICAgICAgIGRhdGE6IGJhc2U2NCwKICAgICAgICB9LAogICAgICB9OwogICAgICBwZXJjZW50LnRleHRDb250ZW50ID0KICAgICAgICAgIGAke01hdGgucm91bmQoKHBvc2l0aW9uIC8gZmlsZURhdGEuYnl0ZUxlbmd0aCkgKiAxMDApfSUgZG9uZWA7CiAgICB9CiAgfQoKICAvLyBBbGwgZG9uZS4KICB5aWVsZCB7CiAgICByZXNwb25zZTogewogICAgICBhY3Rpb246ICdjb21wbGV0ZScsCiAgICB9CiAgfTsKfQoKc2NvcGUuZ29vZ2xlID0gc2NvcGUuZ29vZ2xlIHx8IHt9OwpzY29wZS5nb29nbGUuY29sYWIgPSBzY29wZS5nb29nbGUuY29sYWIgfHwge307CnNjb3BlLmdvb2dsZS5jb2xhYi5fZmlsZXMgPSB7CiAgX3VwbG9hZEZpbGVzLAogIF91cGxvYWRGaWxlc0NvbnRpbnVlLAp9Owp9KShzZWxmKTsK",
              "ok": true,
              "headers": [
                [
                  "content-type",
                  "application/javascript"
                ]
              ],
              "status": 200,
              "status_text": ""
            }
          },
          "base_uri": "https://localhost:8080/",
          "height": 89
        },
        "outputId": "4b601e6d-e027-4023-bd50-836fbf6f1459"
      },
      "source": [
        "from google.colab import files\n",
        "uploaded = files.upload()\n",
        "\n",
        "for fn in uploaded.keys():\n",
        "  print('User uploaded file \"{name}\" with length {length} bytes'.format(\n",
        "      name=fn, length=len(uploaded[fn])))\n",
        "\n",
        "# Then move kaggle.json into the folder where the API expects to find it.\n",
        "!mkdir -p ~/.kaggle/ && mv kaggle.json ~/.kaggle/ && chmod 600 ~/.kaggle/kaggle.json"
      ],
      "execution_count": 1,
      "outputs": [
        {
          "output_type": "display_data",
          "data": {
            "text/html": [
              "\n",
              "     <input type=\"file\" id=\"files-9d5a3c60-92a7-423b-9592-12364bcf4024\" name=\"files[]\" multiple disabled\n",
              "        style=\"border:none\" />\n",
              "     <output id=\"result-9d5a3c60-92a7-423b-9592-12364bcf4024\">\n",
              "      Upload widget is only available when the cell has been executed in the\n",
              "      current browser session. Please rerun this cell to enable.\n",
              "      </output>\n",
              "      <script src=\"/nbextensions/google.colab/files.js\"></script> "
            ],
            "text/plain": [
              "<IPython.core.display.HTML object>"
            ]
          },
          "metadata": {
            "tags": []
          }
        },
        {
          "output_type": "stream",
          "text": [
            "Saving kaggle.json to kaggle.json\n",
            "User uploaded file \"kaggle.json\" with length 68 bytes\n"
          ],
          "name": "stdout"
        }
      ]
    },
    {
      "cell_type": "code",
      "metadata": {
        "id": "zF178Cm4Ntm0",
        "colab": {
          "base_uri": "https://localhost:8080/"
        },
        "outputId": "c0d08cb8-b0bc-4bf8-e0d7-8d0e797de534"
      },
      "source": [
        "!kaggle competitions download -c dog-breed-identification"
      ],
      "execution_count": 2,
      "outputs": [
        {
          "output_type": "stream",
          "text": [
            "dog-breed-identification.zip: Skipping, found more recently modified local copy (use --force to force download)\n"
          ],
          "name": "stdout"
        }
      ]
    },
    {
      "cell_type": "markdown",
      "metadata": {
        "id": "r9AjE7fW6shK"
      },
      "source": [
        "# Data understanding"
      ]
    },
    {
      "cell_type": "markdown",
      "metadata": {
        "id": "UgvXpZXAkud6"
      },
      "source": [
        "Libraries"
      ]
    },
    {
      "cell_type": "code",
      "metadata": {
        "id": "i1ksiYst6xko"
      },
      "source": [
        "import pandas as pd\n",
        "import os\n",
        "import tensorflow as tf\n",
        "import numpy as np"
      ],
      "execution_count": 3,
      "outputs": []
    },
    {
      "cell_type": "markdown",
      "metadata": {
        "id": "Y1W3zNyZkzJE"
      },
      "source": [
        "Hyperparameters"
      ]
    },
    {
      "cell_type": "code",
      "metadata": {
        "id": "zlYv3abG7EUg"
      },
      "source": [
        "pathData = '/content/'\n",
        "seed = 1\n",
        "imgHeight = 224\n",
        "imgWidth = 224\n",
        "batchSize = 32\n",
        "numberChannels = 3"
      ],
      "execution_count": 4,
      "outputs": []
    },
    {
      "cell_type": "code",
      "metadata": {
        "id": "dJvZ4O9e7MP3"
      },
      "source": [
        "!unzip /content/dog-breed-identification.zip"
      ],
      "execution_count": 5,
      "outputs": []
    },
    {
      "cell_type": "markdown",
      "metadata": {
        "id": "9pLT7gKr633Z"
      },
      "source": [
        "## Training data"
      ]
    },
    {
      "cell_type": "markdown",
      "metadata": {
        "id": "Knt9MevK68Ag"
      },
      "source": [
        "### Structure data"
      ]
    },
    {
      "cell_type": "code",
      "metadata": {
        "id": "cxp7GhNaNtqU",
        "colab": {
          "base_uri": "https://localhost:8080/",
          "height": 221
        },
        "outputId": "1cce6aa5-ef0f-4f3b-da8a-17dc6506d6da"
      },
      "source": [
        "dsLabel = pd.read_csv(os.path.join(pathData, 'labels.csv'))\n",
        "print('Shape:', dsLabel.shape)\n",
        "dsLabel.head()"
      ],
      "execution_count": 6,
      "outputs": [
        {
          "output_type": "stream",
          "text": [
            "Shape: (10222, 2)\n"
          ],
          "name": "stdout"
        },
        {
          "output_type": "execute_result",
          "data": {
            "text/html": [
              "<div>\n",
              "<style scoped>\n",
              "    .dataframe tbody tr th:only-of-type {\n",
              "        vertical-align: middle;\n",
              "    }\n",
              "\n",
              "    .dataframe tbody tr th {\n",
              "        vertical-align: top;\n",
              "    }\n",
              "\n",
              "    .dataframe thead th {\n",
              "        text-align: right;\n",
              "    }\n",
              "</style>\n",
              "<table border=\"1\" class=\"dataframe\">\n",
              "  <thead>\n",
              "    <tr style=\"text-align: right;\">\n",
              "      <th></th>\n",
              "      <th>id</th>\n",
              "      <th>breed</th>\n",
              "    </tr>\n",
              "  </thead>\n",
              "  <tbody>\n",
              "    <tr>\n",
              "      <th>0</th>\n",
              "      <td>000bec180eb18c7604dcecc8fe0dba07</td>\n",
              "      <td>boston_bull</td>\n",
              "    </tr>\n",
              "    <tr>\n",
              "      <th>1</th>\n",
              "      <td>001513dfcb2ffafc82cccf4d8bbaba97</td>\n",
              "      <td>dingo</td>\n",
              "    </tr>\n",
              "    <tr>\n",
              "      <th>2</th>\n",
              "      <td>001cdf01b096e06d78e9e5112d419397</td>\n",
              "      <td>pekinese</td>\n",
              "    </tr>\n",
              "    <tr>\n",
              "      <th>3</th>\n",
              "      <td>00214f311d5d2247d5dfe4fe24b2303d</td>\n",
              "      <td>bluetick</td>\n",
              "    </tr>\n",
              "    <tr>\n",
              "      <th>4</th>\n",
              "      <td>0021f9ceb3235effd7fcde7f7538ed62</td>\n",
              "      <td>golden_retriever</td>\n",
              "    </tr>\n",
              "  </tbody>\n",
              "</table>\n",
              "</div>"
            ],
            "text/plain": [
              "                                 id             breed\n",
              "0  000bec180eb18c7604dcecc8fe0dba07       boston_bull\n",
              "1  001513dfcb2ffafc82cccf4d8bbaba97             dingo\n",
              "2  001cdf01b096e06d78e9e5112d419397          pekinese\n",
              "3  00214f311d5d2247d5dfe4fe24b2303d          bluetick\n",
              "4  0021f9ceb3235effd7fcde7f7538ed62  golden_retriever"
            ]
          },
          "metadata": {
            "tags": []
          },
          "execution_count": 6
        }
      ]
    },
    {
      "cell_type": "code",
      "metadata": {
        "id": "O0IqGKiE_AY-",
        "colab": {
          "base_uri": "https://localhost:8080/"
        },
        "outputId": "3a213605-a5f1-446c-fe22-58b887778425"
      },
      "source": [
        "print('Number of breeds:', len(dsLabel['breed'].unique()))"
      ],
      "execution_count": 7,
      "outputs": [
        {
          "output_type": "stream",
          "text": [
            "Number of breeds: 120\n"
          ],
          "name": "stdout"
        }
      ]
    },
    {
      "cell_type": "markdown",
      "metadata": {
        "id": "h4GAcvRZC5co"
      },
      "source": [
        "Calculating number of observations per breed."
      ]
    },
    {
      "cell_type": "code",
      "metadata": {
        "id": "xjg8qbWaYj6c",
        "colab": {
          "base_uri": "https://localhost:8080/",
          "height": 221
        },
        "outputId": "b44e3648-9350-4de1-fabd-b9454dd7fe72"
      },
      "source": [
        "dsLabelGroup = dsLabel.groupby('breed').count().reset_index()\n",
        "dsLabelGroup = dsLabelGroup.rename(columns={'id': 'count'})\n",
        "print('Shape:', dsLabelGroup.shape)\n",
        "dsLabelGroup.head()"
      ],
      "execution_count": 8,
      "outputs": [
        {
          "output_type": "stream",
          "text": [
            "Shape: (120, 2)\n"
          ],
          "name": "stdout"
        },
        {
          "output_type": "execute_result",
          "data": {
            "text/html": [
              "<div>\n",
              "<style scoped>\n",
              "    .dataframe tbody tr th:only-of-type {\n",
              "        vertical-align: middle;\n",
              "    }\n",
              "\n",
              "    .dataframe tbody tr th {\n",
              "        vertical-align: top;\n",
              "    }\n",
              "\n",
              "    .dataframe thead th {\n",
              "        text-align: right;\n",
              "    }\n",
              "</style>\n",
              "<table border=\"1\" class=\"dataframe\">\n",
              "  <thead>\n",
              "    <tr style=\"text-align: right;\">\n",
              "      <th></th>\n",
              "      <th>breed</th>\n",
              "      <th>count</th>\n",
              "    </tr>\n",
              "  </thead>\n",
              "  <tbody>\n",
              "    <tr>\n",
              "      <th>0</th>\n",
              "      <td>affenpinscher</td>\n",
              "      <td>80</td>\n",
              "    </tr>\n",
              "    <tr>\n",
              "      <th>1</th>\n",
              "      <td>afghan_hound</td>\n",
              "      <td>116</td>\n",
              "    </tr>\n",
              "    <tr>\n",
              "      <th>2</th>\n",
              "      <td>african_hunting_dog</td>\n",
              "      <td>86</td>\n",
              "    </tr>\n",
              "    <tr>\n",
              "      <th>3</th>\n",
              "      <td>airedale</td>\n",
              "      <td>107</td>\n",
              "    </tr>\n",
              "    <tr>\n",
              "      <th>4</th>\n",
              "      <td>american_staffordshire_terrier</td>\n",
              "      <td>74</td>\n",
              "    </tr>\n",
              "  </tbody>\n",
              "</table>\n",
              "</div>"
            ],
            "text/plain": [
              "                            breed  count\n",
              "0                   affenpinscher     80\n",
              "1                    afghan_hound    116\n",
              "2             african_hunting_dog     86\n",
              "3                        airedale    107\n",
              "4  american_staffordshire_terrier     74"
            ]
          },
          "metadata": {
            "tags": []
          },
          "execution_count": 8
        }
      ]
    },
    {
      "cell_type": "code",
      "metadata": {
        "id": "Nzzp_m1FFb-0",
        "colab": {
          "base_uri": "https://localhost:8080/",
          "height": 80
        },
        "outputId": "5347eea6-a70a-446c-f686-6829c17812b8"
      },
      "source": [
        "dsLabelGroup[dsLabelGroup['count'] == dsLabelGroup['count'].max()]"
      ],
      "execution_count": 9,
      "outputs": [
        {
          "output_type": "execute_result",
          "data": {
            "text/html": [
              "<div>\n",
              "<style scoped>\n",
              "    .dataframe tbody tr th:only-of-type {\n",
              "        vertical-align: middle;\n",
              "    }\n",
              "\n",
              "    .dataframe tbody tr th {\n",
              "        vertical-align: top;\n",
              "    }\n",
              "\n",
              "    .dataframe thead th {\n",
              "        text-align: right;\n",
              "    }\n",
              "</style>\n",
              "<table border=\"1\" class=\"dataframe\">\n",
              "  <thead>\n",
              "    <tr style=\"text-align: right;\">\n",
              "      <th></th>\n",
              "      <th>breed</th>\n",
              "      <th>count</th>\n",
              "    </tr>\n",
              "  </thead>\n",
              "  <tbody>\n",
              "    <tr>\n",
              "      <th>97</th>\n",
              "      <td>scottish_deerhound</td>\n",
              "      <td>126</td>\n",
              "    </tr>\n",
              "  </tbody>\n",
              "</table>\n",
              "</div>"
            ],
            "text/plain": [
              "                 breed  count\n",
              "97  scottish_deerhound    126"
            ]
          },
          "metadata": {
            "tags": []
          },
          "execution_count": 9
        }
      ]
    },
    {
      "cell_type": "code",
      "metadata": {
        "id": "r3Z5HbgNF7_t",
        "colab": {
          "base_uri": "https://localhost:8080/",
          "height": 111
        },
        "outputId": "1bf5d5dc-9dd5-47e5-935f-1186aa2ecfc8"
      },
      "source": [
        "dsLabelGroup[dsLabelGroup['count'] == dsLabelGroup['count'].min()]"
      ],
      "execution_count": 10,
      "outputs": [
        {
          "output_type": "execute_result",
          "data": {
            "text/html": [
              "<div>\n",
              "<style scoped>\n",
              "    .dataframe tbody tr th:only-of-type {\n",
              "        vertical-align: middle;\n",
              "    }\n",
              "\n",
              "    .dataframe tbody tr th {\n",
              "        vertical-align: top;\n",
              "    }\n",
              "\n",
              "    .dataframe thead th {\n",
              "        text-align: right;\n",
              "    }\n",
              "</style>\n",
              "<table border=\"1\" class=\"dataframe\">\n",
              "  <thead>\n",
              "    <tr style=\"text-align: right;\">\n",
              "      <th></th>\n",
              "      <th>breed</th>\n",
              "      <th>count</th>\n",
              "    </tr>\n",
              "  </thead>\n",
              "  <tbody>\n",
              "    <tr>\n",
              "      <th>23</th>\n",
              "      <td>briard</td>\n",
              "      <td>66</td>\n",
              "    </tr>\n",
              "    <tr>\n",
              "      <th>43</th>\n",
              "      <td>eskimo_dog</td>\n",
              "      <td>66</td>\n",
              "    </tr>\n",
              "  </tbody>\n",
              "</table>\n",
              "</div>"
            ],
            "text/plain": [
              "         breed  count\n",
              "23      briard     66\n",
              "43  eskimo_dog     66"
            ]
          },
          "metadata": {
            "tags": []
          },
          "execution_count": 10
        }
      ]
    },
    {
      "cell_type": "markdown",
      "metadata": {
        "id": "A9S1b5ji70Mi"
      },
      "source": [
        "### Images"
      ]
    },
    {
      "cell_type": "code",
      "metadata": {
        "id": "N5qz1VXU5kwI"
      },
      "source": [
        "from sklearn import preprocessing\n",
        "from sklearn.model_selection import train_test_split"
      ],
      "execution_count": 11,
      "outputs": []
    },
    {
      "cell_type": "code",
      "metadata": {
        "id": "XCKj8H8z2JMU"
      },
      "source": [
        "Xpath = dsLabel['id'].values\n",
        "y = dsLabel['breed'].values"
      ],
      "execution_count": 12,
      "outputs": []
    },
    {
      "cell_type": "code",
      "metadata": {
        "colab": {
          "base_uri": "https://localhost:8080/"
        },
        "id": "RbAHOuQ22JPk",
        "outputId": "63fc9a63-90ec-46da-ccc7-529e1fb3a10d"
      },
      "source": [
        "uniqueBreed = set(y)\n",
        "print('Number of breeds:', len(uniqueBreed))"
      ],
      "execution_count": 13,
      "outputs": [
        {
          "output_type": "stream",
          "text": [
            "Number of breeds: 120\n"
          ],
          "name": "stdout"
        }
      ]
    },
    {
      "cell_type": "markdown",
      "metadata": {
        "id": "EanH7i4BEBHe"
      },
      "source": [
        "Encoder target variable"
      ]
    },
    {
      "cell_type": "code",
      "metadata": {
        "colab": {
          "base_uri": "https://localhost:8080/"
        },
        "id": "FQjxgwIG2x-Z",
        "outputId": "d7f83a9f-3e2c-46cc-c0a1-1d9319811677"
      },
      "source": [
        "le = preprocessing.LabelEncoder()\n",
        "y = le.fit_transform(y)\n",
        "print('Shape:', y.shape)"
      ],
      "execution_count": 14,
      "outputs": [
        {
          "output_type": "stream",
          "text": [
            "Shape: (10222,)\n"
          ],
          "name": "stdout"
        }
      ]
    },
    {
      "cell_type": "code",
      "metadata": {
        "id": "jS4alUFt2JVk"
      },
      "source": [
        "y = tf.keras.utils.to_categorical(y)"
      ],
      "execution_count": 15,
      "outputs": []
    },
    {
      "cell_type": "code",
      "metadata": {
        "colab": {
          "base_uri": "https://localhost:8080/"
        },
        "id": "MqZIdhAh-NVP",
        "outputId": "268b4e3d-3b5f-454a-9ea4-239b3cf6a842"
      },
      "source": [
        "print('Shape Xpath:', Xpath.shape)\n",
        "print('Shape y:', y.shape)"
      ],
      "execution_count": 16,
      "outputs": [
        {
          "output_type": "stream",
          "text": [
            "Shape Xpath: (10222,)\n",
            "Shape y: (10222, 120)\n"
          ],
          "name": "stdout"
        }
      ]
    },
    {
      "cell_type": "markdown",
      "metadata": {
        "id": "kZ8qNVzU--Ve"
      },
      "source": [
        "Split data"
      ]
    },
    {
      "cell_type": "code",
      "metadata": {
        "colab": {
          "base_uri": "https://localhost:8080/"
        },
        "id": "4FtrmN-_-Nb3",
        "outputId": "7094a9a5-7888-41a0-daf6-b2bf7f71da83"
      },
      "source": [
        "Xtrain, Xval, ytrain, yval = train_test_split(Xpath, y, test_size=0.2, random_state=42)\n",
        "\n",
        "print('Xtrain:', Xtrain.shape)\n",
        "print('Xval:', Xval.shape)\n",
        "print('ytrain:', ytrain.shape)\n",
        "print('yval:', yval.shape)"
      ],
      "execution_count": 17,
      "outputs": [
        {
          "output_type": "stream",
          "text": [
            "Xtrain: (8177,)\n",
            "Xval: (2045,)\n",
            "ytrain: (8177, 120)\n",
            "yval: (2045, 120)\n"
          ],
          "name": "stdout"
        }
      ]
    },
    {
      "cell_type": "markdown",
      "metadata": {
        "id": "ERFypwlZ_jaT"
      },
      "source": [
        "Read images"
      ]
    },
    {
      "cell_type": "code",
      "metadata": {
        "id": "KH0AUrS26tqU"
      },
      "source": [
        "# Create function to read images\n",
        "def getImage(filePath):\n",
        "    img = tf.io.read_file(filePath)\n",
        "    img = tf.image.decode_jpeg(img, channels = numberChannels)\n",
        "    img = tf.image.resize(img, [imgHeight, imgWidth])\n",
        "    return img"
      ],
      "execution_count": 18,
      "outputs": []
    },
    {
      "cell_type": "code",
      "metadata": {
        "id": "aBcAfFCM6ttf"
      },
      "source": [
        "Xtrain = tf.data.Dataset.from_tensor_slices(Xtrain)"
      ],
      "execution_count": 19,
      "outputs": []
    },
    {
      "cell_type": "code",
      "metadata": {
        "colab": {
          "base_uri": "https://localhost:8080/"
        },
        "id": "ZjC00gOI6tw3",
        "outputId": "c44330ce-062d-46e6-a86c-ee272bc5000a"
      },
      "source": [
        "Xtrain = Xtrain.map(lambda x: getImage(tf.strings.join([pathData, 'train/', x, '.jpg'])), num_parallel_calls=tf.data.experimental.AUTOTUNE)\n",
        "print('Number of observations:', tf.data.experimental.cardinality(Xtrain).numpy())"
      ],
      "execution_count": 20,
      "outputs": [
        {
          "output_type": "stream",
          "text": [
            "Number of observations: 8177\n"
          ],
          "name": "stdout"
        }
      ]
    },
    {
      "cell_type": "code",
      "metadata": {
        "id": "k_aGqK1o9gqT"
      },
      "source": [
        "Xval = tf.data.Dataset.from_tensor_slices(Xval)"
      ],
      "execution_count": 21,
      "outputs": []
    },
    {
      "cell_type": "code",
      "metadata": {
        "colab": {
          "base_uri": "https://localhost:8080/"
        },
        "id": "SBJAJoc39gtY",
        "outputId": "67d0a4cf-9ce5-44cd-f205-b253a92b5737"
      },
      "source": [
        "Xval = Xval.map(lambda x: getImage(tf.strings.join([pathData, 'train/', x, '.jpg'])), num_parallel_calls=tf.data.experimental.AUTOTUNE)\n",
        "print('Number of observations:', tf.data.experimental.cardinality(Xval).numpy())"
      ],
      "execution_count": 22,
      "outputs": [
        {
          "output_type": "stream",
          "text": [
            "Number of observations: 2045\n"
          ],
          "name": "stdout"
        }
      ]
    },
    {
      "cell_type": "markdown",
      "metadata": {
        "id": "TR7uXUM0Elvz"
      },
      "source": [
        "## Testing data"
      ]
    },
    {
      "cell_type": "markdown",
      "metadata": {
        "id": "qysSFTMDEsEw"
      },
      "source": [
        "### Images"
      ]
    },
    {
      "cell_type": "code",
      "metadata": {
        "id": "7gbiQTk3lmDn"
      },
      "source": [
        "# Load path files\n",
        "listFileTest = tf.data.Dataset.list_files(os.path.join(pathData, 'test', '*'), shuffle = False, seed = seed)"
      ],
      "execution_count": 23,
      "outputs": []
    },
    {
      "cell_type": "code",
      "metadata": {
        "id": "jSwG5T6Hlq2c",
        "colab": {
          "base_uri": "https://localhost:8080/"
        },
        "outputId": "4f3bcbbc-ecc3-4a51-fd7f-4690731b5ee9"
      },
      "source": [
        "print('Number of observations:', tf.data.experimental.cardinality(listFileTest).numpy())"
      ],
      "execution_count": 24,
      "outputs": [
        {
          "output_type": "stream",
          "text": [
            "Number of observations: 10357\n"
          ],
          "name": "stdout"
        }
      ]
    },
    {
      "cell_type": "code",
      "metadata": {
        "id": "1jd4asrLlq8L"
      },
      "source": [
        "# Create function to read images\n",
        "def getImage(filePath):\n",
        "    img = tf.io.read_file(filePath)\n",
        "    img = tf.image.decode_jpeg(img, channels = numberChannels)\n",
        "    img = tf.image.resize(img, [imgHeight, imgWidth])\n",
        "    return img"
      ],
      "execution_count": 25,
      "outputs": []
    },
    {
      "cell_type": "code",
      "metadata": {
        "id": "9jeUUjFTlyfM"
      },
      "source": [
        "Xtest = listFileTest.map(getImage, num_parallel_calls=tf.data.experimental.AUTOTUNE)"
      ],
      "execution_count": 26,
      "outputs": []
    },
    {
      "cell_type": "code",
      "metadata": {
        "id": "9RJqr5Pt205x"
      },
      "source": [
        "Xtest = Xtest.batch(batchSize)"
      ],
      "execution_count": 27,
      "outputs": []
    },
    {
      "cell_type": "markdown",
      "metadata": {
        "id": "Z6vZCGEFE09x"
      },
      "source": [
        "# Modeling"
      ]
    },
    {
      "cell_type": "markdown",
      "metadata": {
        "id": "ZmmDL4nNIRYK"
      },
      "source": [
        "## Extract features\n",
        "In this step, I will extract features using transfer learning from three different model. These new features will be input features of classify model.\n"
      ]
    },
    {
      "cell_type": "code",
      "metadata": {
        "id": "FkiI_57WBAFe"
      },
      "source": [
        "Xtrain = Xtrain.batch(batchSize)\n",
        "Xval = Xval.batch(batchSize)"
      ],
      "execution_count": 28,
      "outputs": []
    },
    {
      "cell_type": "markdown",
      "metadata": {
        "id": "LpxIA7xyMyjs"
      },
      "source": [
        "### InceptionV3"
      ]
    },
    {
      "cell_type": "code",
      "metadata": {
        "id": "ZJAL_1YEVh4v"
      },
      "source": [
        "inceptionV3Model = tf.keras.applications.inception_v3.InceptionV3(weights='imagenet', include_top=False, input_shape=(imgHeight, imgWidth, numberChannels))"
      ],
      "execution_count": 29,
      "outputs": []
    },
    {
      "cell_type": "code",
      "metadata": {
        "id": "p3zN31LQIbF8"
      },
      "source": [
        "extractor1 = tf.keras.Sequential([\n",
        "  tf.keras.Input(shape=(imgHeight, imgWidth, numberChannels)),\n",
        "  tf.keras.layers.Lambda(tf.keras.applications.inception_v3.preprocess_input),\n",
        "  #augmentationLayer,\n",
        "  inceptionV3Model,\n",
        "  tf.keras.layers.GlobalAveragePooling2D()\n",
        "])"
      ],
      "execution_count": 30,
      "outputs": []
    },
    {
      "cell_type": "code",
      "metadata": {
        "colab": {
          "base_uri": "https://localhost:8080/"
        },
        "id": "NChFTqGwvlK2",
        "outputId": "7eba7124-30f4-45cb-a8c1-afa5dab8dbdd"
      },
      "source": [
        "extractor1.summary()"
      ],
      "execution_count": 31,
      "outputs": [
        {
          "output_type": "stream",
          "text": [
            "Model: \"sequential\"\n",
            "_________________________________________________________________\n",
            "Layer (type)                 Output Shape              Param #   \n",
            "=================================================================\n",
            "lambda (Lambda)              (None, 224, 224, 3)       0         \n",
            "_________________________________________________________________\n",
            "inception_v3 (Functional)    (None, 5, 5, 2048)        21802784  \n",
            "_________________________________________________________________\n",
            "global_average_pooling2d (Gl (None, 2048)              0         \n",
            "=================================================================\n",
            "Total params: 21,802,784\n",
            "Trainable params: 21,768,352\n",
            "Non-trainable params: 34,432\n",
            "_________________________________________________________________\n"
          ],
          "name": "stdout"
        }
      ]
    },
    {
      "cell_type": "code",
      "metadata": {
        "id": "JwfELdntIbI8",
        "colab": {
          "base_uri": "https://localhost:8080/"
        },
        "outputId": "327204d3-2796-4e7b-b1d8-fc8eb289e051"
      },
      "source": [
        "featuresTrain1 = extractor1.predict(Xtrain)\n",
        "featuresTrain1.shape"
      ],
      "execution_count": 32,
      "outputs": [
        {
          "output_type": "execute_result",
          "data": {
            "text/plain": [
              "(8177, 2048)"
            ]
          },
          "metadata": {
            "tags": []
          },
          "execution_count": 32
        }
      ]
    },
    {
      "cell_type": "code",
      "metadata": {
        "id": "SiLQNbbYTNcN",
        "colab": {
          "base_uri": "https://localhost:8080/"
        },
        "outputId": "20cd0a26-6a55-4267-e5b8-fb81e2a6e77c"
      },
      "source": [
        "featuresVal1 = extractor1.predict(Xval)\n",
        "featuresVal1.shape"
      ],
      "execution_count": 33,
      "outputs": [
        {
          "output_type": "execute_result",
          "data": {
            "text/plain": [
              "(2045, 2048)"
            ]
          },
          "metadata": {
            "tags": []
          },
          "execution_count": 33
        }
      ]
    },
    {
      "cell_type": "markdown",
      "metadata": {
        "id": "j5hMS_HNM0SW"
      },
      "source": [
        "### Xception"
      ]
    },
    {
      "cell_type": "code",
      "metadata": {
        "id": "CBKZ3DVcIbP7"
      },
      "source": [
        "xceptionModel = tf.keras.applications.Xception(weights='imagenet', include_top=False, input_shape=(imgHeight, imgWidth, numberChannels))"
      ],
      "execution_count": 34,
      "outputs": []
    },
    {
      "cell_type": "code",
      "metadata": {
        "id": "VDT3i2aiVh8G"
      },
      "source": [
        "extractor2 = tf.keras.Sequential([\n",
        "  tf.keras.Input(shape=(imgHeight, imgWidth, numberChannels)),\n",
        "  tf.keras.layers.Lambda(tf.keras.applications.xception.preprocess_input),\n",
        "  xceptionModel,\n",
        "  tf.keras.layers.GlobalAveragePooling2D()\n",
        "])"
      ],
      "execution_count": 35,
      "outputs": []
    },
    {
      "cell_type": "code",
      "metadata": {
        "id": "7AF2taApNR8Z",
        "colab": {
          "base_uri": "https://localhost:8080/"
        },
        "outputId": "1173156b-2b4e-4313-be86-602fccbd7ebf"
      },
      "source": [
        "featuresTrain2 = extractor2.predict(Xtrain)\n",
        "featuresTrain2.shape"
      ],
      "execution_count": 36,
      "outputs": [
        {
          "output_type": "execute_result",
          "data": {
            "text/plain": [
              "(8177, 2048)"
            ]
          },
          "metadata": {
            "tags": []
          },
          "execution_count": 36
        }
      ]
    },
    {
      "cell_type": "code",
      "metadata": {
        "id": "SsRmszBrTK24",
        "colab": {
          "base_uri": "https://localhost:8080/"
        },
        "outputId": "53d4a23e-fd39-4835-8083-26923bf30ca3"
      },
      "source": [
        "featuresVal2 = extractor2.predict(Xval)\n",
        "featuresVal2.shape"
      ],
      "execution_count": 37,
      "outputs": [
        {
          "output_type": "execute_result",
          "data": {
            "text/plain": [
              "(2045, 2048)"
            ]
          },
          "metadata": {
            "tags": []
          },
          "execution_count": 37
        }
      ]
    },
    {
      "cell_type": "markdown",
      "metadata": {
        "id": "4FUH6Zy1ODtt"
      },
      "source": [
        "### InceptionResNetV2"
      ]
    },
    {
      "cell_type": "code",
      "metadata": {
        "id": "m9QTUswgOHU9"
      },
      "source": [
        "inceptionResNetV2Model = tf.keras.applications.InceptionResNetV2(weights='imagenet', include_top=False, input_shape=(imgHeight, imgWidth, numberChannels))"
      ],
      "execution_count": 38,
      "outputs": []
    },
    {
      "cell_type": "code",
      "metadata": {
        "id": "mljqHG6cOHXs"
      },
      "source": [
        "extractor3 = tf.keras.Sequential([\n",
        "  tf.keras.Input(shape=(imgHeight, imgWidth, numberChannels)),\n",
        "  tf.keras.layers.Lambda(tf.keras.applications.inception_resnet_v2.preprocess_input),\n",
        "  #augmentationLayer,\n",
        "  inceptionResNetV2Model,\n",
        "  tf.keras.layers.GlobalAveragePooling2D()\n",
        "])"
      ],
      "execution_count": 39,
      "outputs": []
    },
    {
      "cell_type": "code",
      "metadata": {
        "id": "uZ7oKdrQOHau",
        "colab": {
          "base_uri": "https://localhost:8080/"
        },
        "outputId": "1743f232-bfa2-4b6e-b0be-9283b4e5760e"
      },
      "source": [
        "featuresTrain3 = extractor3.predict(Xtrain)\n",
        "featuresTrain3.shape"
      ],
      "execution_count": 40,
      "outputs": [
        {
          "output_type": "execute_result",
          "data": {
            "text/plain": [
              "(8177, 1536)"
            ]
          },
          "metadata": {
            "tags": []
          },
          "execution_count": 40
        }
      ]
    },
    {
      "cell_type": "code",
      "metadata": {
        "id": "6WrRmaKDTXha",
        "colab": {
          "base_uri": "https://localhost:8080/"
        },
        "outputId": "dc477385-1e06-458c-870e-8949d025ee5e"
      },
      "source": [
        "featuresVal3 = extractor3.predict(Xval)\n",
        "featuresVal3.shape"
      ],
      "execution_count": 41,
      "outputs": [
        {
          "output_type": "execute_result",
          "data": {
            "text/plain": [
              "(2045, 1536)"
            ]
          },
          "metadata": {
            "tags": []
          },
          "execution_count": 41
        }
      ]
    },
    {
      "cell_type": "markdown",
      "metadata": {
        "id": "5N6dsJKpPe6G"
      },
      "source": [
        "## Integration\n",
        "To create a input for classification model, I have to concat previous features."
      ]
    },
    {
      "cell_type": "code",
      "metadata": {
        "colab": {
          "base_uri": "https://localhost:8080/"
        },
        "id": "uwBAZDDHCWvH",
        "outputId": "0fc18ba8-6617-44ca-beaa-f5651b5e3b78"
      },
      "source": [
        "XtrainConcat = tf.concat([featuresTrain1, featuresTrain2, featuresTrain3], -1)\n",
        "print('XtrainConcat:', XtrainConcat.shape)"
      ],
      "execution_count": 42,
      "outputs": [
        {
          "output_type": "stream",
          "text": [
            "XtrainConcat: (8177, 5632)\n"
          ],
          "name": "stdout"
        }
      ]
    },
    {
      "cell_type": "code",
      "metadata": {
        "colab": {
          "base_uri": "https://localhost:8080/"
        },
        "id": "CsuqkaXuCWzG",
        "outputId": "1df3d47f-c19c-431b-a8b6-2be81f6498bf"
      },
      "source": [
        "XvalConcat = tf.concat([featuresVal1, featuresVal2, featuresVal3], -1)\n",
        "print('XvalConcat:', XvalConcat.shape)"
      ],
      "execution_count": 43,
      "outputs": [
        {
          "output_type": "stream",
          "text": [
            "XvalConcat: (2045, 5632)\n"
          ],
          "name": "stdout"
        }
      ]
    },
    {
      "cell_type": "code",
      "metadata": {
        "colab": {
          "base_uri": "https://localhost:8080/"
        },
        "id": "7Ge_uPlgDh3k",
        "outputId": "5f031c36-cb53-4e58-cf1d-072dd70ad3e2"
      },
      "source": [
        "y.shape"
      ],
      "execution_count": 44,
      "outputs": [
        {
          "output_type": "execute_result",
          "data": {
            "text/plain": [
              "(10222, 120)"
            ]
          },
          "metadata": {
            "tags": []
          },
          "execution_count": 44
        }
      ]
    },
    {
      "cell_type": "code",
      "metadata": {
        "id": "QvglJwjcCW2c"
      },
      "source": [
        "model = tf.keras.Sequential([\n",
        "  tf.keras.Input(shape=(XtrainConcat.shape[1],)),\n",
        "  tf.keras.layers.Dropout(0.7),\n",
        "\n",
        "  tf.keras.layers.Dense(1024, activation='relu'),\n",
        "\n",
        "  tf.keras.layers.Dense(ytrain.shape[1], activation='softmax')\n",
        "])"
      ],
      "execution_count": 45,
      "outputs": []
    },
    {
      "cell_type": "code",
      "metadata": {
        "colab": {
          "base_uri": "https://localhost:8080/"
        },
        "id": "cmTsyGUjDQTt",
        "outputId": "0c6b4809-05dd-4a9a-9ff2-43ab8f9d9b89"
      },
      "source": [
        "model.summary()"
      ],
      "execution_count": 46,
      "outputs": [
        {
          "output_type": "stream",
          "text": [
            "Model: \"sequential_3\"\n",
            "_________________________________________________________________\n",
            "Layer (type)                 Output Shape              Param #   \n",
            "=================================================================\n",
            "dropout (Dropout)            (None, 5632)              0         \n",
            "_________________________________________________________________\n",
            "dense (Dense)                (None, 1024)              5768192   \n",
            "_________________________________________________________________\n",
            "dense_1 (Dense)              (None, 120)               123000    \n",
            "=================================================================\n",
            "Total params: 5,891,192\n",
            "Trainable params: 5,891,192\n",
            "Non-trainable params: 0\n",
            "_________________________________________________________________\n"
          ],
          "name": "stdout"
        }
      ]
    },
    {
      "cell_type": "code",
      "metadata": {
        "id": "sFae1JHcDQWw"
      },
      "source": [
        "model.compile(optimizer=tf.keras.optimizers.Adam(lr=0.001),\n",
        "              loss=tf.keras.losses.CategoricalCrossentropy(from_logits=False),\n",
        "              metrics=['accuracy'])"
      ],
      "execution_count": 47,
      "outputs": []
    },
    {
      "cell_type": "code",
      "metadata": {
        "colab": {
          "base_uri": "https://localhost:8080/"
        },
        "id": "uUt9OGueD_3E",
        "outputId": "d0ff8174-6a6c-4584-f9d6-626a6721e8ca"
      },
      "source": [
        "history = model.fit(XtrainConcat, ytrain, validation_data=(XvalConcat, yval), epochs=30, callbacks=tf.keras.callbacks.EarlyStopping('val_loss'))"
      ],
      "execution_count": 48,
      "outputs": [
        {
          "output_type": "stream",
          "text": [
            "Epoch 1/30\n",
            "256/256 [==============================] - 1s 5ms/step - loss: 1.2046 - accuracy: 0.7192 - val_loss: 0.6338 - val_accuracy: 0.8269\n",
            "Epoch 2/30\n",
            "256/256 [==============================] - 1s 4ms/step - loss: 0.6120 - accuracy: 0.8268 - val_loss: 0.6272 - val_accuracy: 0.8259\n",
            "Epoch 3/30\n",
            "256/256 [==============================] - 1s 4ms/step - loss: 0.4925 - accuracy: 0.8532 - val_loss: 0.6156 - val_accuracy: 0.8279\n",
            "Epoch 4/30\n",
            "256/256 [==============================] - 1s 4ms/step - loss: 0.4315 - accuracy: 0.8710 - val_loss: 0.6439 - val_accuracy: 0.8279\n"
          ],
          "name": "stdout"
        }
      ]
    },
    {
      "cell_type": "markdown",
      "metadata": {
        "id": "zEbS7i04VeFu"
      },
      "source": [
        "## Testing models"
      ]
    },
    {
      "cell_type": "markdown",
      "metadata": {
        "id": "KY0L1S_oFtoT"
      },
      "source": [
        "Extract features"
      ]
    },
    {
      "cell_type": "code",
      "metadata": {
        "colab": {
          "base_uri": "https://localhost:8080/"
        },
        "id": "9U8WTvLmrilI",
        "outputId": "c160383c-fbc3-469b-fe13-acc0d9d07b27"
      },
      "source": [
        "featuresTest1 = extractor1.predict(Xtest)\n",
        "print('featuresTest1:', featuresTest1.shape)\n",
        "\n",
        "featuresTest2 = extractor2.predict(Xtest)\n",
        "print('featuresTest2:', featuresTest2.shape)\n",
        "\n",
        "featuresTest3 = extractor3.predict(Xtest)\n",
        "print('featuresTest3:', featuresTest3.shape)"
      ],
      "execution_count": 49,
      "outputs": [
        {
          "output_type": "stream",
          "text": [
            "featuresTest1: (10357, 2048)\n",
            "featuresTest2: (10357, 2048)\n",
            "featuresTest3: (10357, 1536)\n"
          ],
          "name": "stdout"
        }
      ]
    },
    {
      "cell_type": "markdown",
      "metadata": {
        "id": "DoUA76kgFxpv"
      },
      "source": [
        "Concat extrated features"
      ]
    },
    {
      "cell_type": "code",
      "metadata": {
        "colab": {
          "base_uri": "https://localhost:8080/"
        },
        "id": "p9j9Ut-KsTRN",
        "outputId": "56aa2cd8-b6cc-419d-cde7-9d25f1672399"
      },
      "source": [
        "XtestConcat = tf.data.Dataset.from_tensor_slices(tf.concat([featuresTest1, featuresTest2, featuresTest3], -1))\n",
        "XtestConcat"
      ],
      "execution_count": 50,
      "outputs": [
        {
          "output_type": "execute_result",
          "data": {
            "text/plain": [
              "<TensorSliceDataset shapes: (5632,), types: tf.float32>"
            ]
          },
          "metadata": {
            "tags": []
          },
          "execution_count": 50
        }
      ]
    },
    {
      "cell_type": "code",
      "metadata": {
        "id": "Odw1YeP2soWu"
      },
      "source": [
        "XtestConcat = XtestConcat.batch(batchSize)"
      ],
      "execution_count": 51,
      "outputs": []
    },
    {
      "cell_type": "code",
      "metadata": {
        "colab": {
          "base_uri": "https://localhost:8080/"
        },
        "id": "uoeyclNFri83",
        "outputId": "7a1a069f-9ed9-409f-b3b0-1841a6179281"
      },
      "source": [
        "predicted = model.predict(XtestConcat)\n",
        "print('Predicted shape:', predicted.shape)"
      ],
      "execution_count": 52,
      "outputs": [
        {
          "output_type": "stream",
          "text": [
            "Predicted shape: (10357, 120)\n"
          ],
          "name": "stdout"
        }
      ]
    },
    {
      "cell_type": "markdown",
      "metadata": {
        "id": "w4m_tgKpF3Cw"
      },
      "source": [
        "Create submission file"
      ]
    },
    {
      "cell_type": "code",
      "metadata": {
        "id": "3W0ucodmyaib"
      },
      "source": [
        "imgNameTest = []\n",
        "for file in os.listdir(os.path.join(pathData, 'test')):\n",
        "  imgNameTest.append(file.split('.')[0])"
      ],
      "execution_count": 53,
      "outputs": []
    },
    {
      "cell_type": "code",
      "metadata": {
        "colab": {
          "base_uri": "https://localhost:8080/",
          "height": 270
        },
        "id": "GcXBTWBFsJRf",
        "outputId": "3f808a6b-efae-4664-acbe-1d013d1c2428"
      },
      "source": [
        "dsSubmission = pd.DataFrame(np.round(predicted, 6), columns=uniqueBreed)\n",
        "dsSubmission.head()"
      ],
      "execution_count": 54,
      "outputs": [
        {
          "output_type": "execute_result",
          "data": {
            "text/html": [
              "<div>\n",
              "<style scoped>\n",
              "    .dataframe tbody tr th:only-of-type {\n",
              "        vertical-align: middle;\n",
              "    }\n",
              "\n",
              "    .dataframe tbody tr th {\n",
              "        vertical-align: top;\n",
              "    }\n",
              "\n",
              "    .dataframe thead th {\n",
              "        text-align: right;\n",
              "    }\n",
              "</style>\n",
              "<table border=\"1\" class=\"dataframe\">\n",
              "  <thead>\n",
              "    <tr style=\"text-align: right;\">\n",
              "      <th></th>\n",
              "      <th>cardigan</th>\n",
              "      <th>doberman</th>\n",
              "      <th>brittany_spaniel</th>\n",
              "      <th>norfolk_terrier</th>\n",
              "      <th>french_bulldog</th>\n",
              "      <th>yorkshire_terrier</th>\n",
              "      <th>clumber</th>\n",
              "      <th>saint_bernard</th>\n",
              "      <th>eskimo_dog</th>\n",
              "      <th>irish_terrier</th>\n",
              "      <th>sussex_spaniel</th>\n",
              "      <th>cairn</th>\n",
              "      <th>staffordshire_bullterrier</th>\n",
              "      <th>border_terrier</th>\n",
              "      <th>black-and-tan_coonhound</th>\n",
              "      <th>silky_terrier</th>\n",
              "      <th>curly-coated_retriever</th>\n",
              "      <th>papillon</th>\n",
              "      <th>great_dane</th>\n",
              "      <th>gordon_setter</th>\n",
              "      <th>pekinese</th>\n",
              "      <th>boxer</th>\n",
              "      <th>dandie_dinmont</th>\n",
              "      <th>miniature_schnauzer</th>\n",
              "      <th>redbone</th>\n",
              "      <th>affenpinscher</th>\n",
              "      <th>old_english_sheepdog</th>\n",
              "      <th>bernese_mountain_dog</th>\n",
              "      <th>saluki</th>\n",
              "      <th>american_staffordshire_terrier</th>\n",
              "      <th>entlebucher</th>\n",
              "      <th>english_foxhound</th>\n",
              "      <th>otterhound</th>\n",
              "      <th>malinois</th>\n",
              "      <th>mexican_hairless</th>\n",
              "      <th>samoyed</th>\n",
              "      <th>west_highland_white_terrier</th>\n",
              "      <th>malamute</th>\n",
              "      <th>lhasa</th>\n",
              "      <th>bull_mastiff</th>\n",
              "      <th>...</th>\n",
              "      <th>tibetan_mastiff</th>\n",
              "      <th>schipperke</th>\n",
              "      <th>kuvasz</th>\n",
              "      <th>basenji</th>\n",
              "      <th>shih-tzu</th>\n",
              "      <th>boston_bull</th>\n",
              "      <th>maltese_dog</th>\n",
              "      <th>pug</th>\n",
              "      <th>newfoundland</th>\n",
              "      <th>blenheim_spaniel</th>\n",
              "      <th>standard_schnauzer</th>\n",
              "      <th>walker_hound</th>\n",
              "      <th>german_short-haired_pointer</th>\n",
              "      <th>pomeranian</th>\n",
              "      <th>lakeland_terrier</th>\n",
              "      <th>sealyham_terrier</th>\n",
              "      <th>irish_wolfhound</th>\n",
              "      <th>borzoi</th>\n",
              "      <th>bluetick</th>\n",
              "      <th>bouvier_des_flandres</th>\n",
              "      <th>vizsla</th>\n",
              "      <th>beagle</th>\n",
              "      <th>bedlington_terrier</th>\n",
              "      <th>chihuahua</th>\n",
              "      <th>norwich_terrier</th>\n",
              "      <th>miniature_poodle</th>\n",
              "      <th>dingo</th>\n",
              "      <th>scotch_terrier</th>\n",
              "      <th>irish_setter</th>\n",
              "      <th>appenzeller</th>\n",
              "      <th>groenendael</th>\n",
              "      <th>shetland_sheepdog</th>\n",
              "      <th>giant_schnauzer</th>\n",
              "      <th>toy_poodle</th>\n",
              "      <th>brabancon_griffon</th>\n",
              "      <th>miniature_pinscher</th>\n",
              "      <th>chow</th>\n",
              "      <th>african_hunting_dog</th>\n",
              "      <th>japanese_spaniel</th>\n",
              "      <th>wire-haired_fox_terrier</th>\n",
              "    </tr>\n",
              "  </thead>\n",
              "  <tbody>\n",
              "    <tr>\n",
              "      <th>0</th>\n",
              "      <td>0.000000</td>\n",
              "      <td>0.000000</td>\n",
              "      <td>0.000000</td>\n",
              "      <td>0.000000</td>\n",
              "      <td>0.000000</td>\n",
              "      <td>0.000000</td>\n",
              "      <td>0.000000</td>\n",
              "      <td>0.000000</td>\n",
              "      <td>0.000000</td>\n",
              "      <td>0.000004</td>\n",
              "      <td>0.000000</td>\n",
              "      <td>0.000000</td>\n",
              "      <td>0.000000</td>\n",
              "      <td>0.000035</td>\n",
              "      <td>0.000000</td>\n",
              "      <td>0.000000</td>\n",
              "      <td>0.000000</td>\n",
              "      <td>0.000000</td>\n",
              "      <td>0.000000</td>\n",
              "      <td>0.000005</td>\n",
              "      <td>0.000000</td>\n",
              "      <td>0.000000</td>\n",
              "      <td>0.000000</td>\n",
              "      <td>0.000000</td>\n",
              "      <td>0.000000</td>\n",
              "      <td>0.000000</td>\n",
              "      <td>0.000000</td>\n",
              "      <td>0.000000</td>\n",
              "      <td>0.000000</td>\n",
              "      <td>0.000000</td>\n",
              "      <td>0.000000</td>\n",
              "      <td>0.000000</td>\n",
              "      <td>0.000000</td>\n",
              "      <td>0.000000</td>\n",
              "      <td>0.000000</td>\n",
              "      <td>0.000000</td>\n",
              "      <td>0.000000</td>\n",
              "      <td>0.000000</td>\n",
              "      <td>0.000000</td>\n",
              "      <td>0.000000</td>\n",
              "      <td>...</td>\n",
              "      <td>0.000000</td>\n",
              "      <td>0.000000</td>\n",
              "      <td>0.000000</td>\n",
              "      <td>0.000001</td>\n",
              "      <td>0.000518</td>\n",
              "      <td>0.008769</td>\n",
              "      <td>0.0</td>\n",
              "      <td>0.000001</td>\n",
              "      <td>0.000002</td>\n",
              "      <td>0.000000</td>\n",
              "      <td>0.000000</td>\n",
              "      <td>0.000000</td>\n",
              "      <td>0.000000</td>\n",
              "      <td>0.000000</td>\n",
              "      <td>0.000000</td>\n",
              "      <td>0.000000</td>\n",
              "      <td>0.000000</td>\n",
              "      <td>0.000000</td>\n",
              "      <td>0.000001</td>\n",
              "      <td>0.000000</td>\n",
              "      <td>0.000099</td>\n",
              "      <td>0.000000</td>\n",
              "      <td>0.000000</td>\n",
              "      <td>0.000000</td>\n",
              "      <td>0.000000</td>\n",
              "      <td>0.000000</td>\n",
              "      <td>0.000000</td>\n",
              "      <td>0.000000</td>\n",
              "      <td>0.000000</td>\n",
              "      <td>0.000002</td>\n",
              "      <td>0.000001</td>\n",
              "      <td>0.000000</td>\n",
              "      <td>0.000000</td>\n",
              "      <td>0.000000</td>\n",
              "      <td>0.000003</td>\n",
              "      <td>0.000000</td>\n",
              "      <td>0.000000</td>\n",
              "      <td>0.000000</td>\n",
              "      <td>0.000000</td>\n",
              "      <td>0.000000</td>\n",
              "    </tr>\n",
              "    <tr>\n",
              "      <th>1</th>\n",
              "      <td>0.000000</td>\n",
              "      <td>0.000000</td>\n",
              "      <td>0.000000</td>\n",
              "      <td>0.000002</td>\n",
              "      <td>0.000000</td>\n",
              "      <td>0.000000</td>\n",
              "      <td>0.000000</td>\n",
              "      <td>0.000000</td>\n",
              "      <td>0.000000</td>\n",
              "      <td>0.000000</td>\n",
              "      <td>0.000000</td>\n",
              "      <td>0.000001</td>\n",
              "      <td>0.000000</td>\n",
              "      <td>0.000000</td>\n",
              "      <td>0.000000</td>\n",
              "      <td>0.000000</td>\n",
              "      <td>0.000000</td>\n",
              "      <td>0.000000</td>\n",
              "      <td>0.000004</td>\n",
              "      <td>0.000001</td>\n",
              "      <td>0.000001</td>\n",
              "      <td>0.000001</td>\n",
              "      <td>0.000000</td>\n",
              "      <td>0.000001</td>\n",
              "      <td>0.000000</td>\n",
              "      <td>0.000000</td>\n",
              "      <td>0.000000</td>\n",
              "      <td>0.000001</td>\n",
              "      <td>0.000000</td>\n",
              "      <td>0.000000</td>\n",
              "      <td>0.000002</td>\n",
              "      <td>0.000000</td>\n",
              "      <td>0.000000</td>\n",
              "      <td>0.000000</td>\n",
              "      <td>0.000003</td>\n",
              "      <td>0.000000</td>\n",
              "      <td>0.000000</td>\n",
              "      <td>0.000000</td>\n",
              "      <td>0.000000</td>\n",
              "      <td>0.000000</td>\n",
              "      <td>...</td>\n",
              "      <td>0.000000</td>\n",
              "      <td>0.000001</td>\n",
              "      <td>0.000000</td>\n",
              "      <td>0.000000</td>\n",
              "      <td>0.000005</td>\n",
              "      <td>0.000000</td>\n",
              "      <td>0.0</td>\n",
              "      <td>0.000040</td>\n",
              "      <td>0.000003</td>\n",
              "      <td>0.000000</td>\n",
              "      <td>0.000000</td>\n",
              "      <td>0.000000</td>\n",
              "      <td>0.000000</td>\n",
              "      <td>0.000000</td>\n",
              "      <td>0.999642</td>\n",
              "      <td>0.000007</td>\n",
              "      <td>0.000001</td>\n",
              "      <td>0.000000</td>\n",
              "      <td>0.000008</td>\n",
              "      <td>0.000000</td>\n",
              "      <td>0.000000</td>\n",
              "      <td>0.000004</td>\n",
              "      <td>0.000000</td>\n",
              "      <td>0.000000</td>\n",
              "      <td>0.000001</td>\n",
              "      <td>0.000000</td>\n",
              "      <td>0.000001</td>\n",
              "      <td>0.000000</td>\n",
              "      <td>0.000004</td>\n",
              "      <td>0.000000</td>\n",
              "      <td>0.000000</td>\n",
              "      <td>0.000000</td>\n",
              "      <td>0.000000</td>\n",
              "      <td>0.000000</td>\n",
              "      <td>0.000002</td>\n",
              "      <td>0.000000</td>\n",
              "      <td>0.000040</td>\n",
              "      <td>0.000000</td>\n",
              "      <td>0.000000</td>\n",
              "      <td>0.000000</td>\n",
              "    </tr>\n",
              "    <tr>\n",
              "      <th>2</th>\n",
              "      <td>0.000000</td>\n",
              "      <td>0.000010</td>\n",
              "      <td>0.000002</td>\n",
              "      <td>0.000000</td>\n",
              "      <td>0.000000</td>\n",
              "      <td>0.000000</td>\n",
              "      <td>0.000000</td>\n",
              "      <td>0.000000</td>\n",
              "      <td>0.000000</td>\n",
              "      <td>0.000000</td>\n",
              "      <td>0.000000</td>\n",
              "      <td>0.000000</td>\n",
              "      <td>0.000000</td>\n",
              "      <td>0.000000</td>\n",
              "      <td>0.000000</td>\n",
              "      <td>0.000032</td>\n",
              "      <td>0.000000</td>\n",
              "      <td>0.000000</td>\n",
              "      <td>0.000027</td>\n",
              "      <td>0.000000</td>\n",
              "      <td>0.000000</td>\n",
              "      <td>0.000000</td>\n",
              "      <td>0.000000</td>\n",
              "      <td>0.000003</td>\n",
              "      <td>0.000006</td>\n",
              "      <td>0.000000</td>\n",
              "      <td>0.000000</td>\n",
              "      <td>0.000000</td>\n",
              "      <td>0.000000</td>\n",
              "      <td>0.000000</td>\n",
              "      <td>0.000000</td>\n",
              "      <td>0.000009</td>\n",
              "      <td>0.000001</td>\n",
              "      <td>0.000000</td>\n",
              "      <td>0.000000</td>\n",
              "      <td>0.000000</td>\n",
              "      <td>0.000000</td>\n",
              "      <td>0.000000</td>\n",
              "      <td>0.000000</td>\n",
              "      <td>0.000000</td>\n",
              "      <td>...</td>\n",
              "      <td>0.000000</td>\n",
              "      <td>0.000000</td>\n",
              "      <td>0.000000</td>\n",
              "      <td>0.000002</td>\n",
              "      <td>0.000001</td>\n",
              "      <td>0.000016</td>\n",
              "      <td>0.0</td>\n",
              "      <td>0.000000</td>\n",
              "      <td>0.000001</td>\n",
              "      <td>0.000000</td>\n",
              "      <td>0.000000</td>\n",
              "      <td>0.000000</td>\n",
              "      <td>0.000001</td>\n",
              "      <td>0.000125</td>\n",
              "      <td>0.000000</td>\n",
              "      <td>0.000000</td>\n",
              "      <td>0.000000</td>\n",
              "      <td>0.000000</td>\n",
              "      <td>0.000000</td>\n",
              "      <td>0.000000</td>\n",
              "      <td>0.000016</td>\n",
              "      <td>0.000000</td>\n",
              "      <td>0.000000</td>\n",
              "      <td>0.000000</td>\n",
              "      <td>0.000000</td>\n",
              "      <td>0.000000</td>\n",
              "      <td>0.000000</td>\n",
              "      <td>0.000000</td>\n",
              "      <td>0.000000</td>\n",
              "      <td>0.000000</td>\n",
              "      <td>0.000000</td>\n",
              "      <td>0.000000</td>\n",
              "      <td>0.000000</td>\n",
              "      <td>0.000003</td>\n",
              "      <td>0.000000</td>\n",
              "      <td>0.000000</td>\n",
              "      <td>0.000000</td>\n",
              "      <td>0.000000</td>\n",
              "      <td>0.000000</td>\n",
              "      <td>0.000000</td>\n",
              "    </tr>\n",
              "    <tr>\n",
              "      <th>3</th>\n",
              "      <td>0.000365</td>\n",
              "      <td>0.000427</td>\n",
              "      <td>0.000350</td>\n",
              "      <td>0.000007</td>\n",
              "      <td>0.000145</td>\n",
              "      <td>0.000060</td>\n",
              "      <td>0.000000</td>\n",
              "      <td>0.000040</td>\n",
              "      <td>0.000028</td>\n",
              "      <td>0.000040</td>\n",
              "      <td>0.000012</td>\n",
              "      <td>0.000004</td>\n",
              "      <td>0.000022</td>\n",
              "      <td>0.000000</td>\n",
              "      <td>0.000006</td>\n",
              "      <td>0.002972</td>\n",
              "      <td>0.000161</td>\n",
              "      <td>0.000409</td>\n",
              "      <td>0.000068</td>\n",
              "      <td>0.004504</td>\n",
              "      <td>0.000091</td>\n",
              "      <td>0.000062</td>\n",
              "      <td>0.000038</td>\n",
              "      <td>0.000109</td>\n",
              "      <td>0.000002</td>\n",
              "      <td>0.001552</td>\n",
              "      <td>0.000005</td>\n",
              "      <td>0.000037</td>\n",
              "      <td>0.000048</td>\n",
              "      <td>0.000406</td>\n",
              "      <td>0.000470</td>\n",
              "      <td>0.000025</td>\n",
              "      <td>0.000016</td>\n",
              "      <td>0.000018</td>\n",
              "      <td>0.001735</td>\n",
              "      <td>0.000003</td>\n",
              "      <td>0.000003</td>\n",
              "      <td>0.000032</td>\n",
              "      <td>0.000002</td>\n",
              "      <td>0.000017</td>\n",
              "      <td>...</td>\n",
              "      <td>0.000027</td>\n",
              "      <td>0.000003</td>\n",
              "      <td>0.000177</td>\n",
              "      <td>0.000005</td>\n",
              "      <td>0.000023</td>\n",
              "      <td>0.000071</td>\n",
              "      <td>0.0</td>\n",
              "      <td>0.000051</td>\n",
              "      <td>0.719629</td>\n",
              "      <td>0.000002</td>\n",
              "      <td>0.000002</td>\n",
              "      <td>0.000061</td>\n",
              "      <td>0.000047</td>\n",
              "      <td>0.000028</td>\n",
              "      <td>0.000024</td>\n",
              "      <td>0.000136</td>\n",
              "      <td>0.000085</td>\n",
              "      <td>0.000473</td>\n",
              "      <td>0.000187</td>\n",
              "      <td>0.000023</td>\n",
              "      <td>0.000393</td>\n",
              "      <td>0.000233</td>\n",
              "      <td>0.000003</td>\n",
              "      <td>0.000024</td>\n",
              "      <td>0.233199</td>\n",
              "      <td>0.000836</td>\n",
              "      <td>0.000083</td>\n",
              "      <td>0.000012</td>\n",
              "      <td>0.001883</td>\n",
              "      <td>0.000445</td>\n",
              "      <td>0.000052</td>\n",
              "      <td>0.000008</td>\n",
              "      <td>0.000002</td>\n",
              "      <td>0.000414</td>\n",
              "      <td>0.000067</td>\n",
              "      <td>0.000002</td>\n",
              "      <td>0.000024</td>\n",
              "      <td>0.002219</td>\n",
              "      <td>0.000033</td>\n",
              "      <td>0.000034</td>\n",
              "    </tr>\n",
              "    <tr>\n",
              "      <th>4</th>\n",
              "      <td>0.000019</td>\n",
              "      <td>0.000117</td>\n",
              "      <td>0.000021</td>\n",
              "      <td>0.000000</td>\n",
              "      <td>0.000001</td>\n",
              "      <td>0.000001</td>\n",
              "      <td>0.000003</td>\n",
              "      <td>0.000001</td>\n",
              "      <td>0.000000</td>\n",
              "      <td>0.000000</td>\n",
              "      <td>0.000000</td>\n",
              "      <td>0.000000</td>\n",
              "      <td>0.000001</td>\n",
              "      <td>0.000000</td>\n",
              "      <td>0.000001</td>\n",
              "      <td>0.000079</td>\n",
              "      <td>0.000000</td>\n",
              "      <td>0.000000</td>\n",
              "      <td>0.000000</td>\n",
              "      <td>0.000014</td>\n",
              "      <td>0.000188</td>\n",
              "      <td>0.000005</td>\n",
              "      <td>0.000001</td>\n",
              "      <td>0.006772</td>\n",
              "      <td>0.000007</td>\n",
              "      <td>0.000136</td>\n",
              "      <td>0.000000</td>\n",
              "      <td>0.000001</td>\n",
              "      <td>0.000000</td>\n",
              "      <td>0.000001</td>\n",
              "      <td>0.000014</td>\n",
              "      <td>0.000004</td>\n",
              "      <td>0.000010</td>\n",
              "      <td>0.000002</td>\n",
              "      <td>0.000000</td>\n",
              "      <td>0.000001</td>\n",
              "      <td>0.000029</td>\n",
              "      <td>0.000001</td>\n",
              "      <td>0.000000</td>\n",
              "      <td>0.000003</td>\n",
              "      <td>...</td>\n",
              "      <td>0.000001</td>\n",
              "      <td>0.000000</td>\n",
              "      <td>0.000169</td>\n",
              "      <td>0.000004</td>\n",
              "      <td>0.000012</td>\n",
              "      <td>0.000003</td>\n",
              "      <td>0.0</td>\n",
              "      <td>0.000007</td>\n",
              "      <td>0.000014</td>\n",
              "      <td>0.000000</td>\n",
              "      <td>0.000001</td>\n",
              "      <td>0.000032</td>\n",
              "      <td>0.000024</td>\n",
              "      <td>0.000000</td>\n",
              "      <td>0.000000</td>\n",
              "      <td>0.000002</td>\n",
              "      <td>0.000000</td>\n",
              "      <td>0.000001</td>\n",
              "      <td>0.000013</td>\n",
              "      <td>0.000009</td>\n",
              "      <td>0.017707</td>\n",
              "      <td>0.000002</td>\n",
              "      <td>0.000044</td>\n",
              "      <td>0.000017</td>\n",
              "      <td>0.000012</td>\n",
              "      <td>0.000001</td>\n",
              "      <td>0.000000</td>\n",
              "      <td>0.000001</td>\n",
              "      <td>0.000019</td>\n",
              "      <td>0.358507</td>\n",
              "      <td>0.000001</td>\n",
              "      <td>0.000000</td>\n",
              "      <td>0.000000</td>\n",
              "      <td>0.000019</td>\n",
              "      <td>0.000001</td>\n",
              "      <td>0.000000</td>\n",
              "      <td>0.000000</td>\n",
              "      <td>0.000015</td>\n",
              "      <td>0.000016</td>\n",
              "      <td>0.000005</td>\n",
              "    </tr>\n",
              "  </tbody>\n",
              "</table>\n",
              "<p>5 rows × 120 columns</p>\n",
              "</div>"
            ],
            "text/plain": [
              "   cardigan  doberman  ...  japanese_spaniel  wire-haired_fox_terrier\n",
              "0  0.000000  0.000000  ...          0.000000                 0.000000\n",
              "1  0.000000  0.000000  ...          0.000000                 0.000000\n",
              "2  0.000000  0.000010  ...          0.000000                 0.000000\n",
              "3  0.000365  0.000427  ...          0.000033                 0.000034\n",
              "4  0.000019  0.000117  ...          0.000016                 0.000005\n",
              "\n",
              "[5 rows x 120 columns]"
            ]
          },
          "metadata": {
            "tags": []
          },
          "execution_count": 54
        }
      ]
    },
    {
      "cell_type": "code",
      "metadata": {
        "id": "8M4LAbO80qub"
      },
      "source": [
        "dsSubmission.insert(0, 'id', imgNameTest)"
      ],
      "execution_count": 55,
      "outputs": []
    },
    {
      "cell_type": "code",
      "metadata": {
        "colab": {
          "base_uri": "https://localhost:8080/",
          "height": 270
        },
        "id": "tcqF4V4D0LCw",
        "outputId": "42606eaf-f5a5-49a0-bdc3-e29203073a1b"
      },
      "source": [
        "dsSubmission.head()"
      ],
      "execution_count": 56,
      "outputs": [
        {
          "output_type": "execute_result",
          "data": {
            "text/html": [
              "<div>\n",
              "<style scoped>\n",
              "    .dataframe tbody tr th:only-of-type {\n",
              "        vertical-align: middle;\n",
              "    }\n",
              "\n",
              "    .dataframe tbody tr th {\n",
              "        vertical-align: top;\n",
              "    }\n",
              "\n",
              "    .dataframe thead th {\n",
              "        text-align: right;\n",
              "    }\n",
              "</style>\n",
              "<table border=\"1\" class=\"dataframe\">\n",
              "  <thead>\n",
              "    <tr style=\"text-align: right;\">\n",
              "      <th></th>\n",
              "      <th>id</th>\n",
              "      <th>cardigan</th>\n",
              "      <th>doberman</th>\n",
              "      <th>brittany_spaniel</th>\n",
              "      <th>norfolk_terrier</th>\n",
              "      <th>french_bulldog</th>\n",
              "      <th>yorkshire_terrier</th>\n",
              "      <th>clumber</th>\n",
              "      <th>saint_bernard</th>\n",
              "      <th>eskimo_dog</th>\n",
              "      <th>irish_terrier</th>\n",
              "      <th>sussex_spaniel</th>\n",
              "      <th>cairn</th>\n",
              "      <th>staffordshire_bullterrier</th>\n",
              "      <th>border_terrier</th>\n",
              "      <th>black-and-tan_coonhound</th>\n",
              "      <th>silky_terrier</th>\n",
              "      <th>curly-coated_retriever</th>\n",
              "      <th>papillon</th>\n",
              "      <th>great_dane</th>\n",
              "      <th>gordon_setter</th>\n",
              "      <th>pekinese</th>\n",
              "      <th>boxer</th>\n",
              "      <th>dandie_dinmont</th>\n",
              "      <th>miniature_schnauzer</th>\n",
              "      <th>redbone</th>\n",
              "      <th>affenpinscher</th>\n",
              "      <th>old_english_sheepdog</th>\n",
              "      <th>bernese_mountain_dog</th>\n",
              "      <th>saluki</th>\n",
              "      <th>american_staffordshire_terrier</th>\n",
              "      <th>entlebucher</th>\n",
              "      <th>english_foxhound</th>\n",
              "      <th>otterhound</th>\n",
              "      <th>malinois</th>\n",
              "      <th>mexican_hairless</th>\n",
              "      <th>samoyed</th>\n",
              "      <th>west_highland_white_terrier</th>\n",
              "      <th>malamute</th>\n",
              "      <th>lhasa</th>\n",
              "      <th>...</th>\n",
              "      <th>tibetan_mastiff</th>\n",
              "      <th>schipperke</th>\n",
              "      <th>kuvasz</th>\n",
              "      <th>basenji</th>\n",
              "      <th>shih-tzu</th>\n",
              "      <th>boston_bull</th>\n",
              "      <th>maltese_dog</th>\n",
              "      <th>pug</th>\n",
              "      <th>newfoundland</th>\n",
              "      <th>blenheim_spaniel</th>\n",
              "      <th>standard_schnauzer</th>\n",
              "      <th>walker_hound</th>\n",
              "      <th>german_short-haired_pointer</th>\n",
              "      <th>pomeranian</th>\n",
              "      <th>lakeland_terrier</th>\n",
              "      <th>sealyham_terrier</th>\n",
              "      <th>irish_wolfhound</th>\n",
              "      <th>borzoi</th>\n",
              "      <th>bluetick</th>\n",
              "      <th>bouvier_des_flandres</th>\n",
              "      <th>vizsla</th>\n",
              "      <th>beagle</th>\n",
              "      <th>bedlington_terrier</th>\n",
              "      <th>chihuahua</th>\n",
              "      <th>norwich_terrier</th>\n",
              "      <th>miniature_poodle</th>\n",
              "      <th>dingo</th>\n",
              "      <th>scotch_terrier</th>\n",
              "      <th>irish_setter</th>\n",
              "      <th>appenzeller</th>\n",
              "      <th>groenendael</th>\n",
              "      <th>shetland_sheepdog</th>\n",
              "      <th>giant_schnauzer</th>\n",
              "      <th>toy_poodle</th>\n",
              "      <th>brabancon_griffon</th>\n",
              "      <th>miniature_pinscher</th>\n",
              "      <th>chow</th>\n",
              "      <th>african_hunting_dog</th>\n",
              "      <th>japanese_spaniel</th>\n",
              "      <th>wire-haired_fox_terrier</th>\n",
              "    </tr>\n",
              "  </thead>\n",
              "  <tbody>\n",
              "    <tr>\n",
              "      <th>0</th>\n",
              "      <td>d2a440580e48f9004697bd6c13026a25</td>\n",
              "      <td>0.000000</td>\n",
              "      <td>0.000000</td>\n",
              "      <td>0.000000</td>\n",
              "      <td>0.000000</td>\n",
              "      <td>0.000000</td>\n",
              "      <td>0.000000</td>\n",
              "      <td>0.000000</td>\n",
              "      <td>0.000000</td>\n",
              "      <td>0.000000</td>\n",
              "      <td>0.000004</td>\n",
              "      <td>0.000000</td>\n",
              "      <td>0.000000</td>\n",
              "      <td>0.000000</td>\n",
              "      <td>0.000035</td>\n",
              "      <td>0.000000</td>\n",
              "      <td>0.000000</td>\n",
              "      <td>0.000000</td>\n",
              "      <td>0.000000</td>\n",
              "      <td>0.000000</td>\n",
              "      <td>0.000005</td>\n",
              "      <td>0.000000</td>\n",
              "      <td>0.000000</td>\n",
              "      <td>0.000000</td>\n",
              "      <td>0.000000</td>\n",
              "      <td>0.000000</td>\n",
              "      <td>0.000000</td>\n",
              "      <td>0.000000</td>\n",
              "      <td>0.000000</td>\n",
              "      <td>0.000000</td>\n",
              "      <td>0.000000</td>\n",
              "      <td>0.000000</td>\n",
              "      <td>0.000000</td>\n",
              "      <td>0.000000</td>\n",
              "      <td>0.000000</td>\n",
              "      <td>0.000000</td>\n",
              "      <td>0.000000</td>\n",
              "      <td>0.000000</td>\n",
              "      <td>0.000000</td>\n",
              "      <td>0.000000</td>\n",
              "      <td>...</td>\n",
              "      <td>0.000000</td>\n",
              "      <td>0.000000</td>\n",
              "      <td>0.000000</td>\n",
              "      <td>0.000001</td>\n",
              "      <td>0.000518</td>\n",
              "      <td>0.008769</td>\n",
              "      <td>0.0</td>\n",
              "      <td>0.000001</td>\n",
              "      <td>0.000002</td>\n",
              "      <td>0.000000</td>\n",
              "      <td>0.000000</td>\n",
              "      <td>0.000000</td>\n",
              "      <td>0.000000</td>\n",
              "      <td>0.000000</td>\n",
              "      <td>0.000000</td>\n",
              "      <td>0.000000</td>\n",
              "      <td>0.000000</td>\n",
              "      <td>0.000000</td>\n",
              "      <td>0.000001</td>\n",
              "      <td>0.000000</td>\n",
              "      <td>0.000099</td>\n",
              "      <td>0.000000</td>\n",
              "      <td>0.000000</td>\n",
              "      <td>0.000000</td>\n",
              "      <td>0.000000</td>\n",
              "      <td>0.000000</td>\n",
              "      <td>0.000000</td>\n",
              "      <td>0.000000</td>\n",
              "      <td>0.000000</td>\n",
              "      <td>0.000002</td>\n",
              "      <td>0.000001</td>\n",
              "      <td>0.000000</td>\n",
              "      <td>0.000000</td>\n",
              "      <td>0.000000</td>\n",
              "      <td>0.000003</td>\n",
              "      <td>0.000000</td>\n",
              "      <td>0.000000</td>\n",
              "      <td>0.000000</td>\n",
              "      <td>0.000000</td>\n",
              "      <td>0.000000</td>\n",
              "    </tr>\n",
              "    <tr>\n",
              "      <th>1</th>\n",
              "      <td>73032fe95faf9bad6bc81663dba0d9b8</td>\n",
              "      <td>0.000000</td>\n",
              "      <td>0.000000</td>\n",
              "      <td>0.000000</td>\n",
              "      <td>0.000002</td>\n",
              "      <td>0.000000</td>\n",
              "      <td>0.000000</td>\n",
              "      <td>0.000000</td>\n",
              "      <td>0.000000</td>\n",
              "      <td>0.000000</td>\n",
              "      <td>0.000000</td>\n",
              "      <td>0.000000</td>\n",
              "      <td>0.000001</td>\n",
              "      <td>0.000000</td>\n",
              "      <td>0.000000</td>\n",
              "      <td>0.000000</td>\n",
              "      <td>0.000000</td>\n",
              "      <td>0.000000</td>\n",
              "      <td>0.000000</td>\n",
              "      <td>0.000004</td>\n",
              "      <td>0.000001</td>\n",
              "      <td>0.000001</td>\n",
              "      <td>0.000001</td>\n",
              "      <td>0.000000</td>\n",
              "      <td>0.000001</td>\n",
              "      <td>0.000000</td>\n",
              "      <td>0.000000</td>\n",
              "      <td>0.000000</td>\n",
              "      <td>0.000001</td>\n",
              "      <td>0.000000</td>\n",
              "      <td>0.000000</td>\n",
              "      <td>0.000002</td>\n",
              "      <td>0.000000</td>\n",
              "      <td>0.000000</td>\n",
              "      <td>0.000000</td>\n",
              "      <td>0.000003</td>\n",
              "      <td>0.000000</td>\n",
              "      <td>0.000000</td>\n",
              "      <td>0.000000</td>\n",
              "      <td>0.000000</td>\n",
              "      <td>...</td>\n",
              "      <td>0.000000</td>\n",
              "      <td>0.000001</td>\n",
              "      <td>0.000000</td>\n",
              "      <td>0.000000</td>\n",
              "      <td>0.000005</td>\n",
              "      <td>0.000000</td>\n",
              "      <td>0.0</td>\n",
              "      <td>0.000040</td>\n",
              "      <td>0.000003</td>\n",
              "      <td>0.000000</td>\n",
              "      <td>0.000000</td>\n",
              "      <td>0.000000</td>\n",
              "      <td>0.000000</td>\n",
              "      <td>0.000000</td>\n",
              "      <td>0.999642</td>\n",
              "      <td>0.000007</td>\n",
              "      <td>0.000001</td>\n",
              "      <td>0.000000</td>\n",
              "      <td>0.000008</td>\n",
              "      <td>0.000000</td>\n",
              "      <td>0.000000</td>\n",
              "      <td>0.000004</td>\n",
              "      <td>0.000000</td>\n",
              "      <td>0.000000</td>\n",
              "      <td>0.000001</td>\n",
              "      <td>0.000000</td>\n",
              "      <td>0.000001</td>\n",
              "      <td>0.000000</td>\n",
              "      <td>0.000004</td>\n",
              "      <td>0.000000</td>\n",
              "      <td>0.000000</td>\n",
              "      <td>0.000000</td>\n",
              "      <td>0.000000</td>\n",
              "      <td>0.000000</td>\n",
              "      <td>0.000002</td>\n",
              "      <td>0.000000</td>\n",
              "      <td>0.000040</td>\n",
              "      <td>0.000000</td>\n",
              "      <td>0.000000</td>\n",
              "      <td>0.000000</td>\n",
              "    </tr>\n",
              "    <tr>\n",
              "      <th>2</th>\n",
              "      <td>250aecbc5d19d365b32804f19e16c8a4</td>\n",
              "      <td>0.000000</td>\n",
              "      <td>0.000010</td>\n",
              "      <td>0.000002</td>\n",
              "      <td>0.000000</td>\n",
              "      <td>0.000000</td>\n",
              "      <td>0.000000</td>\n",
              "      <td>0.000000</td>\n",
              "      <td>0.000000</td>\n",
              "      <td>0.000000</td>\n",
              "      <td>0.000000</td>\n",
              "      <td>0.000000</td>\n",
              "      <td>0.000000</td>\n",
              "      <td>0.000000</td>\n",
              "      <td>0.000000</td>\n",
              "      <td>0.000000</td>\n",
              "      <td>0.000032</td>\n",
              "      <td>0.000000</td>\n",
              "      <td>0.000000</td>\n",
              "      <td>0.000027</td>\n",
              "      <td>0.000000</td>\n",
              "      <td>0.000000</td>\n",
              "      <td>0.000000</td>\n",
              "      <td>0.000000</td>\n",
              "      <td>0.000003</td>\n",
              "      <td>0.000006</td>\n",
              "      <td>0.000000</td>\n",
              "      <td>0.000000</td>\n",
              "      <td>0.000000</td>\n",
              "      <td>0.000000</td>\n",
              "      <td>0.000000</td>\n",
              "      <td>0.000000</td>\n",
              "      <td>0.000009</td>\n",
              "      <td>0.000001</td>\n",
              "      <td>0.000000</td>\n",
              "      <td>0.000000</td>\n",
              "      <td>0.000000</td>\n",
              "      <td>0.000000</td>\n",
              "      <td>0.000000</td>\n",
              "      <td>0.000000</td>\n",
              "      <td>...</td>\n",
              "      <td>0.000000</td>\n",
              "      <td>0.000000</td>\n",
              "      <td>0.000000</td>\n",
              "      <td>0.000002</td>\n",
              "      <td>0.000001</td>\n",
              "      <td>0.000016</td>\n",
              "      <td>0.0</td>\n",
              "      <td>0.000000</td>\n",
              "      <td>0.000001</td>\n",
              "      <td>0.000000</td>\n",
              "      <td>0.000000</td>\n",
              "      <td>0.000000</td>\n",
              "      <td>0.000001</td>\n",
              "      <td>0.000125</td>\n",
              "      <td>0.000000</td>\n",
              "      <td>0.000000</td>\n",
              "      <td>0.000000</td>\n",
              "      <td>0.000000</td>\n",
              "      <td>0.000000</td>\n",
              "      <td>0.000000</td>\n",
              "      <td>0.000016</td>\n",
              "      <td>0.000000</td>\n",
              "      <td>0.000000</td>\n",
              "      <td>0.000000</td>\n",
              "      <td>0.000000</td>\n",
              "      <td>0.000000</td>\n",
              "      <td>0.000000</td>\n",
              "      <td>0.000000</td>\n",
              "      <td>0.000000</td>\n",
              "      <td>0.000000</td>\n",
              "      <td>0.000000</td>\n",
              "      <td>0.000000</td>\n",
              "      <td>0.000000</td>\n",
              "      <td>0.000003</td>\n",
              "      <td>0.000000</td>\n",
              "      <td>0.000000</td>\n",
              "      <td>0.000000</td>\n",
              "      <td>0.000000</td>\n",
              "      <td>0.000000</td>\n",
              "      <td>0.000000</td>\n",
              "    </tr>\n",
              "    <tr>\n",
              "      <th>3</th>\n",
              "      <td>9ae64eb724d302df9b59eae70864962a</td>\n",
              "      <td>0.000365</td>\n",
              "      <td>0.000427</td>\n",
              "      <td>0.000350</td>\n",
              "      <td>0.000007</td>\n",
              "      <td>0.000145</td>\n",
              "      <td>0.000060</td>\n",
              "      <td>0.000000</td>\n",
              "      <td>0.000040</td>\n",
              "      <td>0.000028</td>\n",
              "      <td>0.000040</td>\n",
              "      <td>0.000012</td>\n",
              "      <td>0.000004</td>\n",
              "      <td>0.000022</td>\n",
              "      <td>0.000000</td>\n",
              "      <td>0.000006</td>\n",
              "      <td>0.002972</td>\n",
              "      <td>0.000161</td>\n",
              "      <td>0.000409</td>\n",
              "      <td>0.000068</td>\n",
              "      <td>0.004504</td>\n",
              "      <td>0.000091</td>\n",
              "      <td>0.000062</td>\n",
              "      <td>0.000038</td>\n",
              "      <td>0.000109</td>\n",
              "      <td>0.000002</td>\n",
              "      <td>0.001552</td>\n",
              "      <td>0.000005</td>\n",
              "      <td>0.000037</td>\n",
              "      <td>0.000048</td>\n",
              "      <td>0.000406</td>\n",
              "      <td>0.000470</td>\n",
              "      <td>0.000025</td>\n",
              "      <td>0.000016</td>\n",
              "      <td>0.000018</td>\n",
              "      <td>0.001735</td>\n",
              "      <td>0.000003</td>\n",
              "      <td>0.000003</td>\n",
              "      <td>0.000032</td>\n",
              "      <td>0.000002</td>\n",
              "      <td>...</td>\n",
              "      <td>0.000027</td>\n",
              "      <td>0.000003</td>\n",
              "      <td>0.000177</td>\n",
              "      <td>0.000005</td>\n",
              "      <td>0.000023</td>\n",
              "      <td>0.000071</td>\n",
              "      <td>0.0</td>\n",
              "      <td>0.000051</td>\n",
              "      <td>0.719629</td>\n",
              "      <td>0.000002</td>\n",
              "      <td>0.000002</td>\n",
              "      <td>0.000061</td>\n",
              "      <td>0.000047</td>\n",
              "      <td>0.000028</td>\n",
              "      <td>0.000024</td>\n",
              "      <td>0.000136</td>\n",
              "      <td>0.000085</td>\n",
              "      <td>0.000473</td>\n",
              "      <td>0.000187</td>\n",
              "      <td>0.000023</td>\n",
              "      <td>0.000393</td>\n",
              "      <td>0.000233</td>\n",
              "      <td>0.000003</td>\n",
              "      <td>0.000024</td>\n",
              "      <td>0.233199</td>\n",
              "      <td>0.000836</td>\n",
              "      <td>0.000083</td>\n",
              "      <td>0.000012</td>\n",
              "      <td>0.001883</td>\n",
              "      <td>0.000445</td>\n",
              "      <td>0.000052</td>\n",
              "      <td>0.000008</td>\n",
              "      <td>0.000002</td>\n",
              "      <td>0.000414</td>\n",
              "      <td>0.000067</td>\n",
              "      <td>0.000002</td>\n",
              "      <td>0.000024</td>\n",
              "      <td>0.002219</td>\n",
              "      <td>0.000033</td>\n",
              "      <td>0.000034</td>\n",
              "    </tr>\n",
              "    <tr>\n",
              "      <th>4</th>\n",
              "      <td>a2f259b5440aa56ab3977e23d02f82ed</td>\n",
              "      <td>0.000019</td>\n",
              "      <td>0.000117</td>\n",
              "      <td>0.000021</td>\n",
              "      <td>0.000000</td>\n",
              "      <td>0.000001</td>\n",
              "      <td>0.000001</td>\n",
              "      <td>0.000003</td>\n",
              "      <td>0.000001</td>\n",
              "      <td>0.000000</td>\n",
              "      <td>0.000000</td>\n",
              "      <td>0.000000</td>\n",
              "      <td>0.000000</td>\n",
              "      <td>0.000001</td>\n",
              "      <td>0.000000</td>\n",
              "      <td>0.000001</td>\n",
              "      <td>0.000079</td>\n",
              "      <td>0.000000</td>\n",
              "      <td>0.000000</td>\n",
              "      <td>0.000000</td>\n",
              "      <td>0.000014</td>\n",
              "      <td>0.000188</td>\n",
              "      <td>0.000005</td>\n",
              "      <td>0.000001</td>\n",
              "      <td>0.006772</td>\n",
              "      <td>0.000007</td>\n",
              "      <td>0.000136</td>\n",
              "      <td>0.000000</td>\n",
              "      <td>0.000001</td>\n",
              "      <td>0.000000</td>\n",
              "      <td>0.000001</td>\n",
              "      <td>0.000014</td>\n",
              "      <td>0.000004</td>\n",
              "      <td>0.000010</td>\n",
              "      <td>0.000002</td>\n",
              "      <td>0.000000</td>\n",
              "      <td>0.000001</td>\n",
              "      <td>0.000029</td>\n",
              "      <td>0.000001</td>\n",
              "      <td>0.000000</td>\n",
              "      <td>...</td>\n",
              "      <td>0.000001</td>\n",
              "      <td>0.000000</td>\n",
              "      <td>0.000169</td>\n",
              "      <td>0.000004</td>\n",
              "      <td>0.000012</td>\n",
              "      <td>0.000003</td>\n",
              "      <td>0.0</td>\n",
              "      <td>0.000007</td>\n",
              "      <td>0.000014</td>\n",
              "      <td>0.000000</td>\n",
              "      <td>0.000001</td>\n",
              "      <td>0.000032</td>\n",
              "      <td>0.000024</td>\n",
              "      <td>0.000000</td>\n",
              "      <td>0.000000</td>\n",
              "      <td>0.000002</td>\n",
              "      <td>0.000000</td>\n",
              "      <td>0.000001</td>\n",
              "      <td>0.000013</td>\n",
              "      <td>0.000009</td>\n",
              "      <td>0.017707</td>\n",
              "      <td>0.000002</td>\n",
              "      <td>0.000044</td>\n",
              "      <td>0.000017</td>\n",
              "      <td>0.000012</td>\n",
              "      <td>0.000001</td>\n",
              "      <td>0.000000</td>\n",
              "      <td>0.000001</td>\n",
              "      <td>0.000019</td>\n",
              "      <td>0.358507</td>\n",
              "      <td>0.000001</td>\n",
              "      <td>0.000000</td>\n",
              "      <td>0.000000</td>\n",
              "      <td>0.000019</td>\n",
              "      <td>0.000001</td>\n",
              "      <td>0.000000</td>\n",
              "      <td>0.000000</td>\n",
              "      <td>0.000015</td>\n",
              "      <td>0.000016</td>\n",
              "      <td>0.000005</td>\n",
              "    </tr>\n",
              "  </tbody>\n",
              "</table>\n",
              "<p>5 rows × 121 columns</p>\n",
              "</div>"
            ],
            "text/plain": [
              "                                 id  ...  wire-haired_fox_terrier\n",
              "0  d2a440580e48f9004697bd6c13026a25  ...                 0.000000\n",
              "1  73032fe95faf9bad6bc81663dba0d9b8  ...                 0.000000\n",
              "2  250aecbc5d19d365b32804f19e16c8a4  ...                 0.000000\n",
              "3  9ae64eb724d302df9b59eae70864962a  ...                 0.000034\n",
              "4  a2f259b5440aa56ab3977e23d02f82ed  ...                 0.000005\n",
              "\n",
              "[5 rows x 121 columns]"
            ]
          },
          "metadata": {
            "tags": []
          },
          "execution_count": 56
        }
      ]
    },
    {
      "cell_type": "code",
      "metadata": {
        "id": "Xo3ARhvvyan9"
      },
      "source": [
        "dsSubmission.to_csv('submission.csv', index=False)"
      ],
      "execution_count": 81,
      "outputs": []
    },
    {
      "cell_type": "markdown",
      "metadata": {
        "id": "sCaVerl4NuDU"
      },
      "source": [
        "# References\n",
        "https://www.kaggle.com/c/dog-breed-identification/data\n",
        "\n",
        "https://www.kaggle.com/phylake1337/0-18-loss-simple-feature-extractors"
      ]
    }
  ]
}